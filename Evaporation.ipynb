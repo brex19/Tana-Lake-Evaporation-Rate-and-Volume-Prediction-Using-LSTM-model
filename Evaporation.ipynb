{
  "nbformat": 4,
  "nbformat_minor": 0,
  "metadata": {
    "colab": {
      "provenance": [],
      "include_colab_link": true
    },
    "kernelspec": {
      "name": "python3",
      "display_name": "Python 3"
    },
    "language_info": {
      "name": "python"
    }
  },
  "cells": [
    {
      "cell_type": "markdown",
      "metadata": {
        "id": "view-in-github",
        "colab_type": "text"
      },
      "source": [
        "<a href=\"https://colab.research.google.com/github/brex19/Tana-Lake-Evaporation-rate-and-volume-Prediction-using-LSTM-MODEL/blob/main/Evaporation.ipynb\" target=\"_parent\"><img src=\"https://colab.research.google.com/assets/colab-badge.svg\" alt=\"Open In Colab\"/></a>"
      ]
    },
    {
      "cell_type": "markdown",
      "source": [
        "\n"
      ],
      "metadata": {
        "id": "fVRAIb9NG19I"
      }
    },
    {
      "cell_type": "markdown",
      "source": [
        "# **Import the neccesssary libraries**"
      ],
      "metadata": {
        "id": "_aQX0eEThGll"
      }
    },
    {
      "cell_type": "code",
      "execution_count": null,
      "metadata": {
        "id": "5gXgC8RDT0wM"
      },
      "outputs": [],
      "source": [
        "import pandas as pd\n",
        "import numpy as np\n",
        "import seaborn as sns\n",
        "import matplotlib.pyplot as plt\n",
        "import scipy.stats as stats\n",
        "from scipy.stats import skew, kurtosis\n",
        "from sklearn.preprocessing import StandardScaler\n",
        "from sklearn.preprocessing import RobustScaler"
      ]
    },
    {
      "cell_type": "markdown",
      "source": [
        "### **Exploratory Data Analysis**"
      ],
      "metadata": {
        "id": "kX6fAZLrSYMi"
      }
    },
    {
      "cell_type": "code",
      "source": [
        "from google.colab import drive\n",
        "drive.mount('/content/drive')"
      ],
      "metadata": {
        "id": "81bQ7OyfWkkq",
        "colab": {
          "base_uri": "https://localhost:8080/"
        },
        "outputId": "f0db2a29-c4e4-4e76-9c17-e25fe06cf91c"
      },
      "execution_count": null,
      "outputs": [
        {
          "output_type": "stream",
          "name": "stdout",
          "text": [
            "Mounted at /content/drive\n"
          ]
        }
      ]
    },
    {
      "cell_type": "markdown",
      "source": [],
      "metadata": {
        "id": "KbivjpqiTMoH"
      }
    },
    {
      "cell_type": "code",
      "source": [
        "!pwd"
      ],
      "metadata": {
        "colab": {
          "base_uri": "https://localhost:8080/"
        },
        "id": "WWA20MLQYYu-",
        "outputId": "d14d5551-1d69-4443-a504-9de611bf82cb"
      },
      "execution_count": null,
      "outputs": [
        {
          "output_type": "stream",
          "name": "stdout",
          "text": [
            "/content\n"
          ]
        }
      ]
    },
    {
      "cell_type": "code",
      "source": [
        "cd /content/drive/MyDrive/Colab Notebooks/AI"
      ],
      "metadata": {
        "colab": {
          "base_uri": "https://localhost:8080/"
        },
        "id": "wQusn7YCYgKg",
        "outputId": "7688ea05-99a5-4167-ba96-e8a51f3c2b0a"
      },
      "execution_count": null,
      "outputs": [
        {
          "output_type": "stream",
          "name": "stdout",
          "text": [
            "[Errno 2] No such file or directory: '/content/drive/MyDrive/Colab Notebooks/AI'\n",
            "/content\n"
          ]
        }
      ]
    },
    {
      "cell_type": "code",
      "source": [
        "!ls"
      ],
      "metadata": {
        "colab": {
          "base_uri": "https://localhost:8080/"
        },
        "id": "fcY3ypb_YxVv",
        "outputId": "7acbcd88-e1b1-4132-f049-90324588b7b9"
      },
      "execution_count": null,
      "outputs": [
        {
          "output_type": "stream",
          "name": "stdout",
          "text": [
            "drive  sample_data\n"
          ]
        }
      ]
    },
    {
      "cell_type": "markdown",
      "source": [
        "**Step 2: Read the Dataset**"
      ],
      "metadata": {
        "id": "dGPJ72KJhQuf"
      }
    },
    {
      "cell_type": "code",
      "source": [
        "df=pd.read_csv('/content/drive/MyDrive/Colab Notebooks/AI/EDataset2.csv')\n",
        "df.head()"
      ],
      "metadata": {
        "id": "_1nFvfRGY0-V",
        "collapsed": true
      },
      "execution_count": null,
      "outputs": []
    },
    {
      "cell_type": "markdown",
      "source": [
        "**step 3: sanity check of Data**"
      ],
      "metadata": {
        "id": "PMNronZ9hZBM"
      }
    },
    {
      "cell_type": "code",
      "source": [
        "df.shape"
      ],
      "metadata": {
        "colab": {
          "base_uri": "https://localhost:8080/"
        },
        "id": "NiEPa62GheHH",
        "outputId": "8d386616-5bca-47dd-f919-1189bfebc0e7"
      },
      "execution_count": null,
      "outputs": [
        {
          "output_type": "execute_result",
          "data": {
            "text/plain": [
              "(408, 10)"
            ]
          },
          "metadata": {},
          "execution_count": 9
        }
      ]
    },
    {
      "cell_type": "code",
      "source": [
        "# Columns name of the dataset\n",
        "df.columns.tolist()"
      ],
      "metadata": {
        "colab": {
          "base_uri": "https://localhost:8080/"
        },
        "id": "QcN_awCHT3jn",
        "outputId": "2378bd91-6bee-4550-b909-15ac8276e9b8"
      },
      "execution_count": null,
      "outputs": [
        {
          "output_type": "execute_result",
          "data": {
            "text/plain": [
              "['Date',\n",
              " 'T2M',\n",
              " 'WS2M',\n",
              " 'T2M_MAX',\n",
              " 'T2M_MIN',\n",
              " 'WS2M_MAX',\n",
              " 'WS2M_MIN',\n",
              " 'Dwn_Rad',\n",
              " 'Erate',\n",
              " 'Evol']"
            ]
          },
          "metadata": {},
          "execution_count": 10
        }
      ]
    },
    {
      "cell_type": "code",
      "source": [
        "#information about the data through each column\n",
        "df.info()"
      ],
      "metadata": {
        "colab": {
          "base_uri": "https://localhost:8080/"
        },
        "id": "2oCtOYYvhs22",
        "outputId": "e2285d3a-e4b5-468a-ae39-70a851726a52"
      },
      "execution_count": null,
      "outputs": [
        {
          "output_type": "stream",
          "name": "stdout",
          "text": [
            "<class 'pandas.core.frame.DataFrame'>\n",
            "RangeIndex: 408 entries, 0 to 407\n",
            "Data columns (total 10 columns):\n",
            " #   Column    Non-Null Count  Dtype  \n",
            "---  ------    --------------  -----  \n",
            " 0   Date      408 non-null    object \n",
            " 1   T2M       408 non-null    float64\n",
            " 2   WS2M      408 non-null    float64\n",
            " 3   T2M_MAX   408 non-null    float64\n",
            " 4   T2M_MIN   408 non-null    float64\n",
            " 5   WS2M_MAX  408 non-null    float64\n",
            " 6   WS2M_MIN  408 non-null    float64\n",
            " 7   Dwn_Rad   408 non-null    float64\n",
            " 8   Erate     408 non-null    float64\n",
            " 9   Evol      408 non-null    float64\n",
            "dtypes: float64(9), object(1)\n",
            "memory usage: 32.0+ KB\n"
          ]
        }
      ]
    },
    {
      "cell_type": "code",
      "source": [
        "# checking for missing values\n",
        "df.isnull().sum()"
      ],
      "metadata": {
        "id": "oIaMGF2BhzhZ",
        "colab": {
          "base_uri": "https://localhost:8080/"
        },
        "outputId": "aa29ef0f-1b97-4202-a288-0401b2235f30"
      },
      "execution_count": null,
      "outputs": [
        {
          "output_type": "execute_result",
          "data": {
            "text/plain": [
              "Date        0\n",
              "T2M         0\n",
              "WS2M        0\n",
              "T2M_MAX     0\n",
              "T2M_MIN     0\n",
              "WS2M_MAX    0\n",
              "WS2M_MIN    0\n",
              "Dwn_Rad     0\n",
              "Erate       0\n",
              "Evol        0\n",
              "dtype: int64"
            ]
          },
          "metadata": {},
          "execution_count": 12
        }
      ]
    },
    {
      "cell_type": "code",
      "source": [
        "# checking for duplicated  values\n",
        "df.duplicated().sum()"
      ],
      "metadata": {
        "colab": {
          "base_uri": "https://localhost:8080/"
        },
        "id": "0U1NDHx-iZdG",
        "outputId": "49b673a4-2381-4b25-810e-d022035f95ce"
      },
      "execution_count": null,
      "outputs": [
        {
          "output_type": "execute_result",
          "data": {
            "text/plain": [
              "0"
            ]
          },
          "metadata": {},
          "execution_count": 13
        }
      ]
    },
    {
      "cell_type": "code",
      "source": [
        "df.describe()"
      ],
      "metadata": {
        "colab": {
          "base_uri": "https://localhost:8080/",
          "height": 300
        },
        "id": "28Alvy0ojG-N",
        "outputId": "47ff3cb5-65e0-4ee3-d52d-bb4adc136ccb"
      },
      "execution_count": null,
      "outputs": [
        {
          "output_type": "execute_result",
          "data": {
            "text/plain": [
              "              T2M        WS2M     T2M_MAX     T2M_MIN    WS2M_MAX    WS2M_MIN  \\\n",
              "count  408.000000  408.000000  408.000000  408.000000  408.000000  408.000000   \n",
              "mean    21.121691    2.905441   26.771029   15.802647    6.550588    0.175539   \n",
              "std      1.711572    0.321630    2.490751    1.626694    0.964247    0.108445   \n",
              "min     17.510000    2.000000   21.990000   11.550000    4.080000    0.010000   \n",
              "25%     19.937500    2.660000   24.577500   14.705000    5.827500    0.100000   \n",
              "50%     20.730000    2.900000   26.590000   15.830000    6.625000    0.160000   \n",
              "75%     22.437500    3.122500   28.995000   16.885000    7.242500    0.230000   \n",
              "max     25.870000    4.210000   31.940000   20.140000    9.120000    0.880000   \n",
              "\n",
              "          Dwn_Rad       Erate        Evol  \n",
              "count  408.000000  408.000000  408.000000  \n",
              "mean    21.926054    4.593035  425.720640  \n",
              "std      1.948518    0.617738   56.199911  \n",
              "min     16.630000    3.133073  298.530000  \n",
              "25%     20.817500    4.151982  383.160000  \n",
              "50%     21.870000    4.713277  435.490500  \n",
              "75%     23.217500    5.022304  466.455250  \n",
              "max     27.100000    6.097952  551.517000  "
            ],
            "text/html": [
              "\n",
              "  <div id=\"df-5f05b931-8e2c-420e-b368-94a12c8b4e4d\" class=\"colab-df-container\">\n",
              "    <div>\n",
              "<style scoped>\n",
              "    .dataframe tbody tr th:only-of-type {\n",
              "        vertical-align: middle;\n",
              "    }\n",
              "\n",
              "    .dataframe tbody tr th {\n",
              "        vertical-align: top;\n",
              "    }\n",
              "\n",
              "    .dataframe thead th {\n",
              "        text-align: right;\n",
              "    }\n",
              "</style>\n",
              "<table border=\"1\" class=\"dataframe\">\n",
              "  <thead>\n",
              "    <tr style=\"text-align: right;\">\n",
              "      <th></th>\n",
              "      <th>T2M</th>\n",
              "      <th>WS2M</th>\n",
              "      <th>T2M_MAX</th>\n",
              "      <th>T2M_MIN</th>\n",
              "      <th>WS2M_MAX</th>\n",
              "      <th>WS2M_MIN</th>\n",
              "      <th>Dwn_Rad</th>\n",
              "      <th>Erate</th>\n",
              "      <th>Evol</th>\n",
              "    </tr>\n",
              "  </thead>\n",
              "  <tbody>\n",
              "    <tr>\n",
              "      <th>count</th>\n",
              "      <td>408.000000</td>\n",
              "      <td>408.000000</td>\n",
              "      <td>408.000000</td>\n",
              "      <td>408.000000</td>\n",
              "      <td>408.000000</td>\n",
              "      <td>408.000000</td>\n",
              "      <td>408.000000</td>\n",
              "      <td>408.000000</td>\n",
              "      <td>408.000000</td>\n",
              "    </tr>\n",
              "    <tr>\n",
              "      <th>mean</th>\n",
              "      <td>21.121691</td>\n",
              "      <td>2.905441</td>\n",
              "      <td>26.771029</td>\n",
              "      <td>15.802647</td>\n",
              "      <td>6.550588</td>\n",
              "      <td>0.175539</td>\n",
              "      <td>21.926054</td>\n",
              "      <td>4.593035</td>\n",
              "      <td>425.720640</td>\n",
              "    </tr>\n",
              "    <tr>\n",
              "      <th>std</th>\n",
              "      <td>1.711572</td>\n",
              "      <td>0.321630</td>\n",
              "      <td>2.490751</td>\n",
              "      <td>1.626694</td>\n",
              "      <td>0.964247</td>\n",
              "      <td>0.108445</td>\n",
              "      <td>1.948518</td>\n",
              "      <td>0.617738</td>\n",
              "      <td>56.199911</td>\n",
              "    </tr>\n",
              "    <tr>\n",
              "      <th>min</th>\n",
              "      <td>17.510000</td>\n",
              "      <td>2.000000</td>\n",
              "      <td>21.990000</td>\n",
              "      <td>11.550000</td>\n",
              "      <td>4.080000</td>\n",
              "      <td>0.010000</td>\n",
              "      <td>16.630000</td>\n",
              "      <td>3.133073</td>\n",
              "      <td>298.530000</td>\n",
              "    </tr>\n",
              "    <tr>\n",
              "      <th>25%</th>\n",
              "      <td>19.937500</td>\n",
              "      <td>2.660000</td>\n",
              "      <td>24.577500</td>\n",
              "      <td>14.705000</td>\n",
              "      <td>5.827500</td>\n",
              "      <td>0.100000</td>\n",
              "      <td>20.817500</td>\n",
              "      <td>4.151982</td>\n",
              "      <td>383.160000</td>\n",
              "    </tr>\n",
              "    <tr>\n",
              "      <th>50%</th>\n",
              "      <td>20.730000</td>\n",
              "      <td>2.900000</td>\n",
              "      <td>26.590000</td>\n",
              "      <td>15.830000</td>\n",
              "      <td>6.625000</td>\n",
              "      <td>0.160000</td>\n",
              "      <td>21.870000</td>\n",
              "      <td>4.713277</td>\n",
              "      <td>435.490500</td>\n",
              "    </tr>\n",
              "    <tr>\n",
              "      <th>75%</th>\n",
              "      <td>22.437500</td>\n",
              "      <td>3.122500</td>\n",
              "      <td>28.995000</td>\n",
              "      <td>16.885000</td>\n",
              "      <td>7.242500</td>\n",
              "      <td>0.230000</td>\n",
              "      <td>23.217500</td>\n",
              "      <td>5.022304</td>\n",
              "      <td>466.455250</td>\n",
              "    </tr>\n",
              "    <tr>\n",
              "      <th>max</th>\n",
              "      <td>25.870000</td>\n",
              "      <td>4.210000</td>\n",
              "      <td>31.940000</td>\n",
              "      <td>20.140000</td>\n",
              "      <td>9.120000</td>\n",
              "      <td>0.880000</td>\n",
              "      <td>27.100000</td>\n",
              "      <td>6.097952</td>\n",
              "      <td>551.517000</td>\n",
              "    </tr>\n",
              "  </tbody>\n",
              "</table>\n",
              "</div>\n",
              "    <div class=\"colab-df-buttons\">\n",
              "\n",
              "  <div class=\"colab-df-container\">\n",
              "    <button class=\"colab-df-convert\" onclick=\"convertToInteractive('df-5f05b931-8e2c-420e-b368-94a12c8b4e4d')\"\n",
              "            title=\"Convert this dataframe to an interactive table.\"\n",
              "            style=\"display:none;\">\n",
              "\n",
              "  <svg xmlns=\"http://www.w3.org/2000/svg\" height=\"24px\" viewBox=\"0 -960 960 960\">\n",
              "    <path d=\"M120-120v-720h720v720H120Zm60-500h600v-160H180v160Zm220 220h160v-160H400v160Zm0 220h160v-160H400v160ZM180-400h160v-160H180v160Zm440 0h160v-160H620v160ZM180-180h160v-160H180v160Zm440 0h160v-160H620v160Z\"/>\n",
              "  </svg>\n",
              "    </button>\n",
              "\n",
              "  <style>\n",
              "    .colab-df-container {\n",
              "      display:flex;\n",
              "      gap: 12px;\n",
              "    }\n",
              "\n",
              "    .colab-df-convert {\n",
              "      background-color: #E8F0FE;\n",
              "      border: none;\n",
              "      border-radius: 50%;\n",
              "      cursor: pointer;\n",
              "      display: none;\n",
              "      fill: #1967D2;\n",
              "      height: 32px;\n",
              "      padding: 0 0 0 0;\n",
              "      width: 32px;\n",
              "    }\n",
              "\n",
              "    .colab-df-convert:hover {\n",
              "      background-color: #E2EBFA;\n",
              "      box-shadow: 0px 1px 2px rgba(60, 64, 67, 0.3), 0px 1px 3px 1px rgba(60, 64, 67, 0.15);\n",
              "      fill: #174EA6;\n",
              "    }\n",
              "\n",
              "    .colab-df-buttons div {\n",
              "      margin-bottom: 4px;\n",
              "    }\n",
              "\n",
              "    [theme=dark] .colab-df-convert {\n",
              "      background-color: #3B4455;\n",
              "      fill: #D2E3FC;\n",
              "    }\n",
              "\n",
              "    [theme=dark] .colab-df-convert:hover {\n",
              "      background-color: #434B5C;\n",
              "      box-shadow: 0px 1px 3px 1px rgba(0, 0, 0, 0.15);\n",
              "      filter: drop-shadow(0px 1px 2px rgba(0, 0, 0, 0.3));\n",
              "      fill: #FFFFFF;\n",
              "    }\n",
              "  </style>\n",
              "\n",
              "    <script>\n",
              "      const buttonEl =\n",
              "        document.querySelector('#df-5f05b931-8e2c-420e-b368-94a12c8b4e4d button.colab-df-convert');\n",
              "      buttonEl.style.display =\n",
              "        google.colab.kernel.accessAllowed ? 'block' : 'none';\n",
              "\n",
              "      async function convertToInteractive(key) {\n",
              "        const element = document.querySelector('#df-5f05b931-8e2c-420e-b368-94a12c8b4e4d');\n",
              "        const dataTable =\n",
              "          await google.colab.kernel.invokeFunction('convertToInteractive',\n",
              "                                                    [key], {});\n",
              "        if (!dataTable) return;\n",
              "\n",
              "        const docLinkHtml = 'Like what you see? Visit the ' +\n",
              "          '<a target=\"_blank\" href=https://colab.research.google.com/notebooks/data_table.ipynb>data table notebook</a>'\n",
              "          + ' to learn more about interactive tables.';\n",
              "        element.innerHTML = '';\n",
              "        dataTable['output_type'] = 'display_data';\n",
              "        await google.colab.output.renderOutput(dataTable, element);\n",
              "        const docLink = document.createElement('div');\n",
              "        docLink.innerHTML = docLinkHtml;\n",
              "        element.appendChild(docLink);\n",
              "      }\n",
              "    </script>\n",
              "  </div>\n",
              "\n",
              "\n",
              "<div id=\"df-19c01dcc-24e1-431b-8c89-73f6af0a965e\">\n",
              "  <button class=\"colab-df-quickchart\" onclick=\"quickchart('df-19c01dcc-24e1-431b-8c89-73f6af0a965e')\"\n",
              "            title=\"Suggest charts\"\n",
              "            style=\"display:none;\">\n",
              "\n",
              "<svg xmlns=\"http://www.w3.org/2000/svg\" height=\"24px\"viewBox=\"0 0 24 24\"\n",
              "     width=\"24px\">\n",
              "    <g>\n",
              "        <path d=\"M19 3H5c-1.1 0-2 .9-2 2v14c0 1.1.9 2 2 2h14c1.1 0 2-.9 2-2V5c0-1.1-.9-2-2-2zM9 17H7v-7h2v7zm4 0h-2V7h2v10zm4 0h-2v-4h2v4z\"/>\n",
              "    </g>\n",
              "</svg>\n",
              "  </button>\n",
              "\n",
              "<style>\n",
              "  .colab-df-quickchart {\n",
              "      --bg-color: #E8F0FE;\n",
              "      --fill-color: #1967D2;\n",
              "      --hover-bg-color: #E2EBFA;\n",
              "      --hover-fill-color: #174EA6;\n",
              "      --disabled-fill-color: #AAA;\n",
              "      --disabled-bg-color: #DDD;\n",
              "  }\n",
              "\n",
              "  [theme=dark] .colab-df-quickchart {\n",
              "      --bg-color: #3B4455;\n",
              "      --fill-color: #D2E3FC;\n",
              "      --hover-bg-color: #434B5C;\n",
              "      --hover-fill-color: #FFFFFF;\n",
              "      --disabled-bg-color: #3B4455;\n",
              "      --disabled-fill-color: #666;\n",
              "  }\n",
              "\n",
              "  .colab-df-quickchart {\n",
              "    background-color: var(--bg-color);\n",
              "    border: none;\n",
              "    border-radius: 50%;\n",
              "    cursor: pointer;\n",
              "    display: none;\n",
              "    fill: var(--fill-color);\n",
              "    height: 32px;\n",
              "    padding: 0;\n",
              "    width: 32px;\n",
              "  }\n",
              "\n",
              "  .colab-df-quickchart:hover {\n",
              "    background-color: var(--hover-bg-color);\n",
              "    box-shadow: 0 1px 2px rgba(60, 64, 67, 0.3), 0 1px 3px 1px rgba(60, 64, 67, 0.15);\n",
              "    fill: var(--button-hover-fill-color);\n",
              "  }\n",
              "\n",
              "  .colab-df-quickchart-complete:disabled,\n",
              "  .colab-df-quickchart-complete:disabled:hover {\n",
              "    background-color: var(--disabled-bg-color);\n",
              "    fill: var(--disabled-fill-color);\n",
              "    box-shadow: none;\n",
              "  }\n",
              "\n",
              "  .colab-df-spinner {\n",
              "    border: 2px solid var(--fill-color);\n",
              "    border-color: transparent;\n",
              "    border-bottom-color: var(--fill-color);\n",
              "    animation:\n",
              "      spin 1s steps(1) infinite;\n",
              "  }\n",
              "\n",
              "  @keyframes spin {\n",
              "    0% {\n",
              "      border-color: transparent;\n",
              "      border-bottom-color: var(--fill-color);\n",
              "      border-left-color: var(--fill-color);\n",
              "    }\n",
              "    20% {\n",
              "      border-color: transparent;\n",
              "      border-left-color: var(--fill-color);\n",
              "      border-top-color: var(--fill-color);\n",
              "    }\n",
              "    30% {\n",
              "      border-color: transparent;\n",
              "      border-left-color: var(--fill-color);\n",
              "      border-top-color: var(--fill-color);\n",
              "      border-right-color: var(--fill-color);\n",
              "    }\n",
              "    40% {\n",
              "      border-color: transparent;\n",
              "      border-right-color: var(--fill-color);\n",
              "      border-top-color: var(--fill-color);\n",
              "    }\n",
              "    60% {\n",
              "      border-color: transparent;\n",
              "      border-right-color: var(--fill-color);\n",
              "    }\n",
              "    80% {\n",
              "      border-color: transparent;\n",
              "      border-right-color: var(--fill-color);\n",
              "      border-bottom-color: var(--fill-color);\n",
              "    }\n",
              "    90% {\n",
              "      border-color: transparent;\n",
              "      border-bottom-color: var(--fill-color);\n",
              "    }\n",
              "  }\n",
              "</style>\n",
              "\n",
              "  <script>\n",
              "    async function quickchart(key) {\n",
              "      const quickchartButtonEl =\n",
              "        document.querySelector('#' + key + ' button');\n",
              "      quickchartButtonEl.disabled = true;  // To prevent multiple clicks.\n",
              "      quickchartButtonEl.classList.add('colab-df-spinner');\n",
              "      try {\n",
              "        const charts = await google.colab.kernel.invokeFunction(\n",
              "            'suggestCharts', [key], {});\n",
              "      } catch (error) {\n",
              "        console.error('Error during call to suggestCharts:', error);\n",
              "      }\n",
              "      quickchartButtonEl.classList.remove('colab-df-spinner');\n",
              "      quickchartButtonEl.classList.add('colab-df-quickchart-complete');\n",
              "    }\n",
              "    (() => {\n",
              "      let quickchartButtonEl =\n",
              "        document.querySelector('#df-19c01dcc-24e1-431b-8c89-73f6af0a965e button');\n",
              "      quickchartButtonEl.style.display =\n",
              "        google.colab.kernel.accessAllowed ? 'block' : 'none';\n",
              "    })();\n",
              "  </script>\n",
              "</div>\n",
              "\n",
              "    </div>\n",
              "  </div>\n"
            ],
            "application/vnd.google.colaboratory.intrinsic+json": {
              "type": "dataframe",
              "summary": "{\n  \"name\": \"df\",\n  \"rows\": 8,\n  \"fields\": [\n    {\n      \"column\": \"T2M\",\n      \"properties\": {\n        \"dtype\": \"number\",\n        \"std\": 137.90821276037144,\n        \"min\": 1.711572070079652,\n        \"max\": 408.0,\n        \"num_unique_values\": 8,\n        \"samples\": [\n          21.121691176470584,\n          20.73,\n          408.0\n        ],\n        \"semantic_type\": \"\",\n        \"description\": \"\"\n      }\n    },\n    {\n      \"column\": \"WS2M\",\n      \"properties\": {\n        \"dtype\": \"number\",\n        \"std\": 143.3388934359507,\n        \"min\": 0.3216302170681272,\n        \"max\": 408.0,\n        \"num_unique_values\": 8,\n        \"samples\": [\n          2.9054411764705885,\n          2.9,\n          408.0\n        ],\n        \"semantic_type\": \"\",\n        \"description\": \"\"\n      }\n    },\n    {\n      \"column\": \"T2M_MAX\",\n      \"properties\": {\n        \"dtype\": \"number\",\n        \"std\": 136.29625974207394,\n        \"min\": 2.4907512299606545,\n        \"max\": 408.0,\n        \"num_unique_values\": 8,\n        \"samples\": [\n          26.77102941176471,\n          26.59,\n          408.0\n        ],\n        \"semantic_type\": \"\",\n        \"description\": \"\"\n      }\n    },\n    {\n      \"column\": \"T2M_MIN\",\n      \"properties\": {\n        \"dtype\": \"number\",\n        \"std\": 139.48237353944606,\n        \"min\": 1.6266940451123884,\n        \"max\": 408.0,\n        \"num_unique_values\": 8,\n        \"samples\": [\n          15.802647058823528,\n          15.83,\n          408.0\n        ],\n        \"semantic_type\": \"\",\n        \"description\": \"\"\n      }\n    },\n    {\n      \"column\": \"WS2M_MAX\",\n      \"properties\": {\n        \"dtype\": \"number\",\n        \"std\": 142.2292126072596,\n        \"min\": 0.9642469262079846,\n        \"max\": 408.0,\n        \"num_unique_values\": 8,\n        \"samples\": [\n          6.550588235294119,\n          6.625,\n          408.0\n        ],\n        \"semantic_type\": \"\",\n        \"description\": \"\"\n      }\n    },\n    {\n      \"column\": \"WS2M_MIN\",\n      \"properties\": {\n        \"dtype\": \"number\",\n        \"std\": 144.16599214691297,\n        \"min\": 0.01,\n        \"max\": 408.0,\n        \"num_unique_values\": 8,\n        \"samples\": [\n          0.1755392156862745,\n          0.16,\n          408.0\n        ],\n        \"semantic_type\": \"\",\n        \"description\": \"\"\n      }\n    },\n    {\n      \"column\": \"Dwn_Rad\",\n      \"properties\": {\n        \"dtype\": \"number\",\n        \"std\": 137.71407021899117,\n        \"min\": 1.9485177046264088,\n        \"max\": 408.0,\n        \"num_unique_values\": 8,\n        \"samples\": [\n          21.92605392156863,\n          21.87,\n          408.0\n        ],\n        \"semantic_type\": \"\",\n        \"description\": \"\"\n      }\n    },\n    {\n      \"column\": \"Erate\",\n      \"properties\": {\n        \"dtype\": \"number\",\n        \"std\": 142.82818964638273,\n        \"min\": 0.6177377160090827,\n        \"max\": 408.0,\n        \"num_unique_values\": 8,\n        \"samples\": [\n          4.593035312009804,\n          4.71327685,\n          408.0\n        ],\n        \"semantic_type\": \"\",\n        \"description\": \"\"\n      }\n    },\n    {\n      \"column\": \"Evol\",\n      \"properties\": {\n        \"dtype\": \"number\",\n        \"std\": 148.47421961016883,\n        \"min\": 56.19991122895655,\n        \"max\": 551.517,\n        \"num_unique_values\": 8,\n        \"samples\": [\n          425.7206397058824,\n          435.4905,\n          408.0\n        ],\n        \"semantic_type\": \"\",\n        \"description\": \"\"\n      }\n    }\n  ]\n}"
            }
          },
          "metadata": {},
          "execution_count": 14
        }
      ]
    },
    {
      "cell_type": "code",
      "source": [
        "# change the data type of date Column from Object type to datetime for comparing and grouping of\n",
        "# the given  parametrs in month and seasons\n",
        "df['Date'] = pd.to_datetime(df['Date'])\n",
        "print(df.dtypes)"
      ],
      "metadata": {
        "colab": {
          "base_uri": "https://localhost:8080/"
        },
        "id": "brM6YjA-txOO",
        "outputId": "0713c6e7-92c2-436d-b62e-4554d036a1fe"
      },
      "execution_count": null,
      "outputs": [
        {
          "output_type": "stream",
          "name": "stdout",
          "text": [
            "Date        datetime64[ns]\n",
            "T2M                float64\n",
            "WS2M               float64\n",
            "T2M_MAX            float64\n",
            "T2M_MIN            float64\n",
            "WS2M_MAX           float64\n",
            "WS2M_MIN           float64\n",
            "Dwn_Rad            float64\n",
            "Erate              float64\n",
            "Evol               float64\n",
            "dtype: object\n"
          ]
        },
        {
          "output_type": "stream",
          "name": "stderr",
          "text": [
            "<ipython-input-15-7a55894d8b08>:3: UserWarning: Could not infer format, so each element will be parsed individually, falling back to `dateutil`. To ensure parsing is consistent and as-expected, please specify a format.\n",
            "  df['Date'] = pd.to_datetime(df['Date'])\n"
          ]
        }
      ]
    },
    {
      "cell_type": "markdown",
      "source": [],
      "metadata": {
        "id": "2IKBV09XXAmB"
      }
    },
    {
      "cell_type": "code",
      "source": [
        "# calculating average Erate  for each month\n",
        "grouped_df = df.groupby(df.Date.dt.month)\n",
        "meann = grouped_df['Erate'].mean()\n",
        "meann"
      ],
      "metadata": {
        "id": "yDeTI4QtocHw",
        "colab": {
          "base_uri": "https://localhost:8080/"
        },
        "outputId": "5d8c2069-f88d-474a-f1b7-5608c82c2ca9"
      },
      "execution_count": null,
      "outputs": [
        {
          "output_type": "execute_result",
          "data": {
            "text/plain": [
              "Date\n",
              "1     4.729422\n",
              "2     4.914262\n",
              "3     5.138537\n",
              "4     5.334290\n",
              "5     4.918649\n",
              "6     4.452125\n",
              "7     3.808939\n",
              "8     3.491716\n",
              "9     3.812792\n",
              "10    4.732505\n",
              "11    4.955056\n",
              "12    4.828129\n",
              "Name: Erate, dtype: float64"
            ]
          },
          "metadata": {},
          "execution_count": 16
        }
      ]
    },
    {
      "cell_type": "markdown",
      "source": [
        "**Interpretation**\n",
        "\n",
        "the above values are the average evaporation rate values with their corresponding month index(1 is for january, 2 is for february etc.) and below is the graphical representation of the above data"
      ],
      "metadata": {
        "id": "9Two34i4lIIY"
      }
    },
    {
      "cell_type": "markdown",
      "source": [
        "**Plot average Erate for each month**"
      ],
      "metadata": {
        "id": "xoTFubixldyO"
      }
    },
    {
      "cell_type": "code",
      "source": [
        "plt.figure(figsize=(8, 6))\n",
        "custom_index = np.arange(len(meann.values)) * 0.5\n",
        "plt.bar(meann.index,meann.values)\n",
        "plt.title(\" Monthly average Erate values\")\n",
        "plt.xlabel(\"Months\")\n",
        "plt.ylabel(\"monthly average Erate values \")"
      ],
      "metadata": {
        "colab": {
          "base_uri": "https://localhost:8080/",
          "height": 581
        },
        "id": "PhgodxbWpKqx",
        "outputId": "60fc37f5-63b9-4776-e39b-ba3887fbe81e"
      },
      "execution_count": null,
      "outputs": [
        {
          "output_type": "execute_result",
          "data": {
            "text/plain": [
              "Text(0, 0.5, 'monthly average Erate values ')"
            ]
          },
          "metadata": {},
          "execution_count": 17
        },
        {
          "output_type": "display_data",
          "data": {
            "text/plain": [
              "<Figure size 800x600 with 1 Axes>"
            ],
            "image/png": "[encoded data removed]"
          },
          "metadata": {}
        }
      ]
    },
    {
      "cell_type": "markdown",
      "source": [
        "**Observations**\n",
        "\n",
        "the above diagram shows the average evaporation rate of each month over the years from 1985 to 2018 and we can see that february, march and april are the months with the highest evaporation rate values in thoise years"
      ],
      "metadata": {
        "id": "2cCZyjpu6hpV"
      }
    },
    {
      "cell_type": "markdown",
      "source": [
        "**Observation**\n",
        "\n",
        "here is the line graph of the yearly average evaporation rate over the years from 1985 to 2018 and we can see that the evaporation rate is the highest in 2017"
      ],
      "metadata": {
        "id": "5NVEX6Kz50kd"
      }
    },
    {
      "cell_type": "markdown",
      "source": [
        "**Calculating Average Erate of each seasons**"
      ],
      "metadata": {
        "id": "wJLhJn1FgGXn"
      }
    },
    {
      "cell_type": "code",
      "source": [
        "# Winter\n",
        "target_data_winter=df[df['Date'].dt.month.isin([1, 2, 12])]\n",
        "selected_columns_winter = ['Date', 'Erate']\n",
        "average_Erate_winter= target_data_winter['Erate'].mean()\n",
        "\n",
        "#spring\n",
        "target_data_spring = df[df['Date'].dt.month.isin([3, 4, 5])]\n",
        "selected_columns_Fall = ['Date', 'Erate']\n",
        "average_Erate_Spring= target_data_spring['Erate'].mean()\n",
        "\n",
        "#Fall\n",
        "target_data_Fall=df[df['Date'].dt.month.isin([9, 10, 11])]\n",
        "selected_columns_Fall = ['Date', 'Erate']\n",
        "average_Erate_Fall= target_data_Fall['Erate'].mean()\n",
        "\n",
        "#Summer\n",
        "target_data_Summer=df[df['Date'].dt.month.isin([6, 7, 8])]\n",
        "selected_columns_Summer = ['Date', 'Erate']\n",
        "average_Erate_Summer= target_data_Summer['Erate'].mean()\n"
      ],
      "metadata": {
        "id": "l7jigkSVM5XT"
      },
      "execution_count": null,
      "outputs": []
    },
    {
      "cell_type": "markdown",
      "source": [
        "here we calculated the average evaporation rate of each season to draw conclusions about the association of the season and the evaporation rate"
      ],
      "metadata": {
        "id": "1UsGxsgQFw3a"
      }
    },
    {
      "cell_type": "code",
      "source": [
        "print(\"Fall:\", average_Erate_Fall, \"Summer:\", average_Erate_Summer, \"Winter:\", average_Erate_winter, \"Spring:\", average_Erate_Spring)"
      ],
      "metadata": {
        "colab": {
          "base_uri": "https://localhost:8080/"
        },
        "id": "03zeHb-kKtUa",
        "outputId": "4de99c18-42fd-4992-d286-a0805ff93b57"
      },
      "execution_count": null,
      "outputs": [
        {
          "output_type": "stream",
          "name": "stdout",
          "text": [
            "Fall: 4.500117823529411 Summer: 3.9175935490196077 Winter: 4.82393785 Spring: 5.130492025490197\n"
          ]
        }
      ]
    },
    {
      "cell_type": "code",
      "source": [
        "grouped_df_season = df.groupby(df.Date.dt.month.map(lambda x: 'Winter' if x in [1, 2, 12] else 'Spring' if x in [3, 4, 5] else 'Summer' if x in [6, 7, 8] else 'Fall' if x in [9, 10, 11] else None))\n",
        "meann_season = grouped_df_season['Erate'].mean()\n",
        "meann_season_rad = grouped_df_season['Dwn_Rad'].mean()"
      ],
      "metadata": {
        "id": "s05rPp3aRyvo"
      },
      "execution_count": null,
      "outputs": []
    },
    {
      "cell_type": "code",
      "source": [
        "custom_index = np.arange(len(meann_season.values)) * 0.5\n",
        "plt.bar(meann_season.index,meann_season.values)\n",
        "plt.title(\" seasonal mean Erate values by Season\")\n",
        "plt.xlabel(\"season\")\n",
        "plt.ylabel(\"seasonal mean Erate values \")\n",
        "plt.figure(figsize=(8, 6))\n"
      ],
      "metadata": {
        "colab": {
          "base_uri": "https://localhost:8080/",
          "height": 507
        },
        "id": "vjabwSH-SrPq",
        "outputId": "0bbc8fb1-d5ec-4816-a543-3b7092b174fb"
      },
      "execution_count": null,
      "outputs": [
        {
          "output_type": "execute_result",
          "data": {
            "text/plain": [
              "<Figure size 800x600 with 0 Axes>"
            ]
          },
          "metadata": {},
          "execution_count": 21
        },
        {
          "output_type": "display_data",
          "data": {
            "text/plain": [
              "<Figure size 640x480 with 1 Axes>"
            ],
            "image/png": "[encoded data removed]"
          },
          "metadata": {}
        },
        {
          "output_type": "display_data",
          "data": {
            "text/plain": [
              "<Figure size 800x600 with 0 Axes>"
            ]
          },
          "metadata": {}
        }
      ]
    },
    {
      "cell_type": "code",
      "source": [
        "custom_index = np.arange(len(meann_season_rad.values)) * 0.5\n",
        "plt.bar(meann_season_rad.index,meann_season_rad.values)\n",
        "plt.title(\" seasonal mean Downward Radiation values by Season\")\n",
        "plt.xlabel(\"season\")\n",
        "plt.ylabel(\"seasonal mean Downward Radiation values \")\n",
        "plt.figure(figsize=(8, 6))"
      ],
      "metadata": {
        "id": "EG9yzYTYINII",
        "outputId": "261f4a28-a088-44c0-c1b7-1978e6881281",
        "colab": {
          "base_uri": "https://localhost:8080/",
          "height": 507
        }
      },
      "execution_count": null,
      "outputs": [
        {
          "output_type": "execute_result",
          "data": {
            "text/plain": [
              "<Figure size 800x600 with 0 Axes>"
            ]
          },
          "metadata": {},
          "execution_count": 22
        },
        {
          "output_type": "display_data",
          "data": {
            "text/plain": [
              "<Figure size 640x480 with 1 Axes>"
            ],
            "image/png": "[encoded data removed]"
          },
          "metadata": {}
        },
        {
          "output_type": "display_data",
          "data": {
            "text/plain": [
              "<Figure size 800x600 with 0 Axes>"
            ]
          },
          "metadata": {}
        }
      ]
    },
    {
      "cell_type": "markdown",
      "source": [
        "**Observation**\n",
        "\n",
        "here from the above two figures we can see that the evaporation rate is highest on spring and winter due to the high downward radiation in the respective seasons and since downward radiation is the highly correlated factor with evaporation rate it will sgnificantly shape the evaporation rate values"
      ],
      "metadata": {
        "id": "_uwtWmuyGfRM"
      }
    },
    {
      "cell_type": "code",
      "source": [
        "df_erate = df.drop(['Evol','T2M_MAX','T2M_MIN','WS2M_MIN','WS2M_MAX'], axis=1, inplace=False)\n",
        "df_erate"
      ],
      "metadata": {
        "colab": {
          "base_uri": "https://localhost:8080/",
          "height": 424
        },
        "id": "WhQ1xRVBW8jW",
        "outputId": "c814cdd9-d089-4f92-ad32-d0e3cd283b4e"
      },
      "execution_count": null,
      "outputs": [
        {
          "output_type": "execute_result",
          "data": {
            "text/plain": [
              "          Date    T2M  WS2M  Dwn_Rad     Erate\n",
              "0   1985-01-01  21.05  2.88    22.14  4.756807\n",
              "1   1985-02-01  21.31  3.56    23.01  5.072299\n",
              "2   1985-03-01  23.05  3.46    23.93  4.852545\n",
              "3   1985-04-01  21.90  2.76    24.90  4.670804\n",
              "4   1985-05-01  21.49  3.14    21.93  4.581093\n",
              "..         ...    ...   ...      ...       ...\n",
              "403 2018-08-01  18.83  2.71    19.15  3.602490\n",
              "404 2018-09-01  20.84  2.55    22.16  4.280815\n",
              "405 2018-10-01  20.75  2.75    21.04  4.806518\n",
              "406 2018-11-01  20.40  2.69    20.64  4.625378\n",
              "407 2018-12-01  20.73  2.81    20.77  4.502505\n",
              "\n",
              "[408 rows x 5 columns]"
            ],
            "text/html": [
              "\n",
              "  <div id=\"df-62c584d7-3230-4a42-8124-07a9ef9c93e8\" class=\"colab-df-container\">\n",
              "    <div>\n",
              "<style scoped>\n",
              "    .dataframe tbody tr th:only-of-type {\n",
              "        vertical-align: middle;\n",
              "    }\n",
              "\n",
              "    .dataframe tbody tr th {\n",
              "        vertical-align: top;\n",
              "    }\n",
              "\n",
              "    .dataframe thead th {\n",
              "        text-align: right;\n",
              "    }\n",
              "</style>\n",
              "<table border=\"1\" class=\"dataframe\">\n",
              "  <thead>\n",
              "    <tr style=\"text-align: right;\">\n",
              "      <th></th>\n",
              "      <th>Date</th>\n",
              "      <th>T2M</th>\n",
              "      <th>WS2M</th>\n",
              "      <th>Dwn_Rad</th>\n",
              "      <th>Erate</th>\n",
              "    </tr>\n",
              "  </thead>\n",
              "  <tbody>\n",
              "    <tr>\n",
              "      <th>0</th>\n",
              "      <td>1985-01-01</td>\n",
              "      <td>21.05</td>\n",
              "      <td>2.88</td>\n",
              "      <td>22.14</td>\n",
              "      <td>4.756807</td>\n",
              "    </tr>\n",
              "    <tr>\n",
              "      <th>1</th>\n",
              "      <td>1985-02-01</td>\n",
              "      <td>21.31</td>\n",
              "      <td>3.56</td>\n",
              "      <td>23.01</td>\n",
              "      <td>5.072299</td>\n",
              "    </tr>\n",
              "    <tr>\n",
              "      <th>2</th>\n",
              "      <td>1985-03-01</td>\n",
              "      <td>23.05</td>\n",
              "      <td>3.46</td>\n",
              "      <td>23.93</td>\n",
              "      <td>4.852545</td>\n",
              "    </tr>\n",
              "    <tr>\n",
              "      <th>3</th>\n",
              "      <td>1985-04-01</td>\n",
              "      <td>21.90</td>\n",
              "      <td>2.76</td>\n",
              "      <td>24.90</td>\n",
              "      <td>4.670804</td>\n",
              "    </tr>\n",
              "    <tr>\n",
              "      <th>4</th>\n",
              "      <td>1985-05-01</td>\n",
              "      <td>21.49</td>\n",
              "      <td>3.14</td>\n",
              "      <td>21.93</td>\n",
              "      <td>4.581093</td>\n",
              "    </tr>\n",
              "    <tr>\n",
              "      <th>...</th>\n",
              "      <td>...</td>\n",
              "      <td>...</td>\n",
              "      <td>...</td>\n",
              "      <td>...</td>\n",
              "      <td>...</td>\n",
              "    </tr>\n",
              "    <tr>\n",
              "      <th>403</th>\n",
              "      <td>2018-08-01</td>\n",
              "      <td>18.83</td>\n",
              "      <td>2.71</td>\n",
              "      <td>19.15</td>\n",
              "      <td>3.602490</td>\n",
              "    </tr>\n",
              "    <tr>\n",
              "      <th>404</th>\n",
              "      <td>2018-09-01</td>\n",
              "      <td>20.84</td>\n",
              "      <td>2.55</td>\n",
              "      <td>22.16</td>\n",
              "      <td>4.280815</td>\n",
              "    </tr>\n",
              "    <tr>\n",
              "      <th>405</th>\n",
              "      <td>2018-10-01</td>\n",
              "      <td>20.75</td>\n",
              "      <td>2.75</td>\n",
              "      <td>21.04</td>\n",
              "      <td>4.806518</td>\n",
              "    </tr>\n",
              "    <tr>\n",
              "      <th>406</th>\n",
              "      <td>2018-11-01</td>\n",
              "      <td>20.40</td>\n",
              "      <td>2.69</td>\n",
              "      <td>20.64</td>\n",
              "      <td>4.625378</td>\n",
              "    </tr>\n",
              "    <tr>\n",
              "      <th>407</th>\n",
              "      <td>2018-12-01</td>\n",
              "      <td>20.73</td>\n",
              "      <td>2.81</td>\n",
              "      <td>20.77</td>\n",
              "      <td>4.502505</td>\n",
              "    </tr>\n",
              "  </tbody>\n",
              "</table>\n",
              "<p>408 rows × 5 columns</p>\n",
              "</div>\n",
              "    <div class=\"colab-df-buttons\">\n",
              "\n",
              "  <div class=\"colab-df-container\">\n",
              "    <button class=\"colab-df-convert\" onclick=\"convertToInteractive('df-62c584d7-3230-4a42-8124-07a9ef9c93e8')\"\n",
              "            title=\"Convert this dataframe to an interactive table.\"\n",
              "            style=\"display:none;\">\n",
              "\n",
              "  <svg xmlns=\"http://www.w3.org/2000/svg\" height=\"24px\" viewBox=\"0 -960 960 960\">\n",
              "    <path d=\"M120-120v-720h720v720H120Zm60-500h600v-160H180v160Zm220 220h160v-160H400v160Zm0 220h160v-160H400v160ZM180-400h160v-160H180v160Zm440 0h160v-160H620v160ZM180-180h160v-160H180v160Zm440 0h160v-160H620v160Z\"/>\n",
              "  </svg>\n",
              "    </button>\n",
              "\n",
              "  <style>\n",
              "    .colab-df-container {\n",
              "      display:flex;\n",
              "      gap: 12px;\n",
              "    }\n",
              "\n",
              "    .colab-df-convert {\n",
              "      background-color: #E8F0FE;\n",
              "      border: none;\n",
              "      border-radius: 50%;\n",
              "      cursor: pointer;\n",
              "      display: none;\n",
              "      fill: #1967D2;\n",
              "      height: 32px;\n",
              "      padding: 0 0 0 0;\n",
              "      width: 32px;\n",
              "    }\n",
              "\n",
              "    .colab-df-convert:hover {\n",
              "      background-color: #E2EBFA;\n",
              "      box-shadow: 0px 1px 2px rgba(60, 64, 67, 0.3), 0px 1px 3px 1px rgba(60, 64, 67, 0.15);\n",
              "      fill: #174EA6;\n",
              "    }\n",
              "\n",
              "    .colab-df-buttons div {\n",
              "      margin-bottom: 4px;\n",
              "    }\n",
              "\n",
              "    [theme=dark] .colab-df-convert {\n",
              "      background-color: #3B4455;\n",
              "      fill: #D2E3FC;\n",
              "    }\n",
              "\n",
              "    [theme=dark] .colab-df-convert:hover {\n",
              "      background-color: #434B5C;\n",
              "      box-shadow: 0px 1px 3px 1px rgba(0, 0, 0, 0.15);\n",
              "      filter: drop-shadow(0px 1px 2px rgba(0, 0, 0, 0.3));\n",
              "      fill: #FFFFFF;\n",
              "    }\n",
              "  </style>\n",
              "\n",
              "    <script>\n",
              "      const buttonEl =\n",
              "        document.querySelector('#df-62c584d7-3230-4a42-8124-07a9ef9c93e8 button.colab-df-convert');\n",
              "      buttonEl.style.display =\n",
              "        google.colab.kernel.accessAllowed ? 'block' : 'none';\n",
              "\n",
              "      async function convertToInteractive(key) {\n",
              "        const element = document.querySelector('#df-62c584d7-3230-4a42-8124-07a9ef9c93e8');\n",
              "        const dataTable =\n",
              "          await google.colab.kernel.invokeFunction('convertToInteractive',\n",
              "                                                    [key], {});\n",
              "        if (!dataTable) return;\n",
              "\n",
              "        const docLinkHtml = 'Like what you see? Visit the ' +\n",
              "          '<a target=\"_blank\" href=https://colab.research.google.com/notebooks/data_table.ipynb>data table notebook</a>'\n",
              "          + ' to learn more about interactive tables.';\n",
              "        element.innerHTML = '';\n",
              "        dataTable['output_type'] = 'display_data';\n",
              "        await google.colab.output.renderOutput(dataTable, element);\n",
              "        const docLink = document.createElement('div');\n",
              "        docLink.innerHTML = docLinkHtml;\n",
              "        element.appendChild(docLink);\n",
              "      }\n",
              "    </script>\n",
              "  </div>\n",
              "\n",
              "\n",
              "<div id=\"df-a0f3111e-0a6d-4891-be8c-ed7760442987\">\n",
              "  <button class=\"colab-df-quickchart\" onclick=\"quickchart('df-a0f3111e-0a6d-4891-be8c-ed7760442987')\"\n",
              "            title=\"Suggest charts\"\n",
              "            style=\"display:none;\">\n",
              "\n",
              "<svg xmlns=\"http://www.w3.org/2000/svg\" height=\"24px\"viewBox=\"0 0 24 24\"\n",
              "     width=\"24px\">\n",
              "    <g>\n",
              "        <path d=\"M19 3H5c-1.1 0-2 .9-2 2v14c0 1.1.9 2 2 2h14c1.1 0 2-.9 2-2V5c0-1.1-.9-2-2-2zM9 17H7v-7h2v7zm4 0h-2V7h2v10zm4 0h-2v-4h2v4z\"/>\n",
              "    </g>\n",
              "</svg>\n",
              "  </button>\n",
              "\n",
              "<style>\n",
              "  .colab-df-quickchart {\n",
              "      --bg-color: #E8F0FE;\n",
              "      --fill-color: #1967D2;\n",
              "      --hover-bg-color: #E2EBFA;\n",
              "      --hover-fill-color: #174EA6;\n",
              "      --disabled-fill-color: #AAA;\n",
              "      --disabled-bg-color: #DDD;\n",
              "  }\n",
              "\n",
              "  [theme=dark] .colab-df-quickchart {\n",
              "      --bg-color: #3B4455;\n",
              "      --fill-color: #D2E3FC;\n",
              "      --hover-bg-color: #434B5C;\n",
              "      --hover-fill-color: #FFFFFF;\n",
              "      --disabled-bg-color: #3B4455;\n",
              "      --disabled-fill-color: #666;\n",
              "  }\n",
              "\n",
              "  .colab-df-quickchart {\n",
              "    background-color: var(--bg-color);\n",
              "    border: none;\n",
              "    border-radius: 50%;\n",
              "    cursor: pointer;\n",
              "    display: none;\n",
              "    fill: var(--fill-color);\n",
              "    height: 32px;\n",
              "    padding: 0;\n",
              "    width: 32px;\n",
              "  }\n",
              "\n",
              "  .colab-df-quickchart:hover {\n",
              "    background-color: var(--hover-bg-color);\n",
              "    box-shadow: 0 1px 2px rgba(60, 64, 67, 0.3), 0 1px 3px 1px rgba(60, 64, 67, 0.15);\n",
              "    fill: var(--button-hover-fill-color);\n",
              "  }\n",
              "\n",
              "  .colab-df-quickchart-complete:disabled,\n",
              "  .colab-df-quickchart-complete:disabled:hover {\n",
              "    background-color: var(--disabled-bg-color);\n",
              "    fill: var(--disabled-fill-color);\n",
              "    box-shadow: none;\n",
              "  }\n",
              "\n",
              "  .colab-df-spinner {\n",
              "    border: 2px solid var(--fill-color);\n",
              "    border-color: transparent;\n",
              "    border-bottom-color: var(--fill-color);\n",
              "    animation:\n",
              "      spin 1s steps(1) infinite;\n",
              "  }\n",
              "\n",
              "  @keyframes spin {\n",
              "    0% {\n",
              "      border-color: transparent;\n",
              "      border-bottom-color: var(--fill-color);\n",
              "      border-left-color: var(--fill-color);\n",
              "    }\n",
              "    20% {\n",
              "      border-color: transparent;\n",
              "      border-left-color: var(--fill-color);\n",
              "      border-top-color: var(--fill-color);\n",
              "    }\n",
              "    30% {\n",
              "      border-color: transparent;\n",
              "      border-left-color: var(--fill-color);\n",
              "      border-top-color: var(--fill-color);\n",
              "      border-right-color: var(--fill-color);\n",
              "    }\n",
              "    40% {\n",
              "      border-color: transparent;\n",
              "      border-right-color: var(--fill-color);\n",
              "      border-top-color: var(--fill-color);\n",
              "    }\n",
              "    60% {\n",
              "      border-color: transparent;\n",
              "      border-right-color: var(--fill-color);\n",
              "    }\n",
              "    80% {\n",
              "      border-color: transparent;\n",
              "      border-right-color: var(--fill-color);\n",
              "      border-bottom-color: var(--fill-color);\n",
              "    }\n",
              "    90% {\n",
              "      border-color: transparent;\n",
              "      border-bottom-color: var(--fill-color);\n",
              "    }\n",
              "  }\n",
              "</style>\n",
              "\n",
              "  <script>\n",
              "    async function quickchart(key) {\n",
              "      const quickchartButtonEl =\n",
              "        document.querySelector('#' + key + ' button');\n",
              "      quickchartButtonEl.disabled = true;  // To prevent multiple clicks.\n",
              "      quickchartButtonEl.classList.add('colab-df-spinner');\n",
              "      try {\n",
              "        const charts = await google.colab.kernel.invokeFunction(\n",
              "            'suggestCharts', [key], {});\n",
              "      } catch (error) {\n",
              "        console.error('Error during call to suggestCharts:', error);\n",
              "      }\n",
              "      quickchartButtonEl.classList.remove('colab-df-spinner');\n",
              "      quickchartButtonEl.classList.add('colab-df-quickchart-complete');\n",
              "    }\n",
              "    (() => {\n",
              "      let quickchartButtonEl =\n",
              "        document.querySelector('#df-a0f3111e-0a6d-4891-be8c-ed7760442987 button');\n",
              "      quickchartButtonEl.style.display =\n",
              "        google.colab.kernel.accessAllowed ? 'block' : 'none';\n",
              "    })();\n",
              "  </script>\n",
              "</div>\n",
              "\n",
              "  <div id=\"id_725820d3-3f62-4612-90a7-3553d18999cd\">\n",
              "    <style>\n",
              "      .colab-df-generate {\n",
              "        background-color: #E8F0FE;\n",
              "        border: none;\n",
              "        border-radius: 50%;\n",
              "        cursor: pointer;\n",
              "        display: none;\n",
              "        fill: #1967D2;\n",
              "        height: 32px;\n",
              "        padding: 0 0 0 0;\n",
              "        width: 32px;\n",
              "      }\n",
              "\n",
              "      .colab-df-generate:hover {\n",
              "        background-color: #E2EBFA;\n",
              "        box-shadow: 0px 1px 2px rgba(60, 64, 67, 0.3), 0px 1px 3px 1px rgba(60, 64, 67, 0.15);\n",
              "        fill: #174EA6;\n",
              "      }\n",
              "\n",
              "      [theme=dark] .colab-df-generate {\n",
              "        background-color: #3B4455;\n",
              "        fill: #D2E3FC;\n",
              "      }\n",
              "\n",
              "      [theme=dark] .colab-df-generate:hover {\n",
              "        background-color: #434B5C;\n",
              "        box-shadow: 0px 1px 3px 1px rgba(0, 0, 0, 0.15);\n",
              "        filter: drop-shadow(0px 1px 2px rgba(0, 0, 0, 0.3));\n",
              "        fill: #FFFFFF;\n",
              "      }\n",
              "    </style>\n",
              "    <button class=\"colab-df-generate\" onclick=\"generateWithVariable('df_erate')\"\n",
              "            title=\"Generate code using this dataframe.\"\n",
              "            style=\"display:none;\">\n",
              "\n",
              "  <svg xmlns=\"http://www.w3.org/2000/svg\" height=\"24px\"viewBox=\"0 0 24 24\"\n",
              "       width=\"24px\">\n",
              "    <path d=\"M7,19H8.4L18.45,9,17,7.55,7,17.6ZM5,21V16.75L18.45,3.32a2,2,0,0,1,2.83,0l1.4,1.43a1.91,1.91,0,0,1,.58,1.4,1.91,1.91,0,0,1-.58,1.4L9.25,21ZM18.45,9,17,7.55Zm-12,3A5.31,5.31,0,0,0,4.9,8.1,5.31,5.31,0,0,0,1,6.5,5.31,5.31,0,0,0,4.9,4.9,5.31,5.31,0,0,0,6.5,1,5.31,5.31,0,0,0,8.1,4.9,5.31,5.31,0,0,0,12,6.5,5.46,5.46,0,0,0,6.5,12Z\"/>\n",
              "  </svg>\n",
              "    </button>\n",
              "    <script>\n",
              "      (() => {\n",
              "      const buttonEl =\n",
              "        document.querySelector('#id_725820d3-3f62-4612-90a7-3553d18999cd button.colab-df-generate');\n",
              "      buttonEl.style.display =\n",
              "        google.colab.kernel.accessAllowed ? 'block' : 'none';\n",
              "\n",
              "      buttonEl.onclick = () => {\n",
              "        google.colab.notebook.generateWithVariable('df_erate');\n",
              "      }\n",
              "      })();\n",
              "    </script>\n",
              "  </div>\n",
              "\n",
              "    </div>\n",
              "  </div>\n"
            ],
            "application/vnd.google.colaboratory.intrinsic+json": {
              "type": "dataframe",
              "variable_name": "df_erate",
              "summary": "{\n  \"name\": \"df_erate\",\n  \"rows\": 408,\n  \"fields\": [\n    {\n      \"column\": \"Date\",\n      \"properties\": {\n        \"dtype\": \"date\",\n        \"min\": \"1985-01-01 00:00:00\",\n        \"max\": \"2018-12-01 00:00:00\",\n        \"num_unique_values\": 408,\n        \"samples\": [\n          \"1990-11-01 00:00:00\",\n          \"2003-03-01 00:00:00\",\n          \"2006-07-01 00:00:00\"\n        ],\n        \"semantic_type\": \"\",\n        \"description\": \"\"\n      }\n    },\n    {\n      \"column\": \"T2M\",\n      \"properties\": {\n        \"dtype\": \"number\",\n        \"std\": 1.711572070079652,\n        \"min\": 17.51,\n        \"max\": 25.87,\n        \"num_unique_values\": 281,\n        \"samples\": [\n          20.06,\n          20.13,\n          24.26\n        ],\n        \"semantic_type\": \"\",\n        \"description\": \"\"\n      }\n    },\n    {\n      \"column\": \"WS2M\",\n      \"properties\": {\n        \"dtype\": \"number\",\n        \"std\": 0.3216302170681272,\n        \"min\": 2.0,\n        \"max\": 4.21,\n        \"num_unique_values\": 122,\n        \"samples\": [\n          2.66,\n          2.58,\n          3.55\n        ],\n        \"semantic_type\": \"\",\n        \"description\": \"\"\n      }\n    },\n    {\n      \"column\": \"Dwn_Rad\",\n      \"properties\": {\n        \"dtype\": \"number\",\n        \"std\": 1.9485177046264088,\n        \"min\": 16.63,\n        \"max\": 27.1,\n        \"num_unique_values\": 302,\n        \"samples\": [\n          23.28,\n          19.03,\n          20.84\n        ],\n        \"semantic_type\": \"\",\n        \"description\": \"\"\n      }\n    },\n    {\n      \"column\": \"Erate\",\n      \"properties\": {\n        \"dtype\": \"number\",\n        \"std\": 0.6177377160090827,\n        \"min\": 3.133073,\n        \"max\": 6.097952,\n        \"num_unique_values\": 408,\n        \"samples\": [\n          5.181738,\n          5.018643,\n          3.592373\n        ],\n        \"semantic_type\": \"\",\n        \"description\": \"\"\n      }\n    }\n  ]\n}"
            }
          },
          "metadata": {},
          "execution_count": 23
        }
      ]
    },
    {
      "cell_type": "markdown",
      "source": [
        "**Correlation Analysis**"
      ],
      "metadata": {
        "id": "enCD-m1DjJje"
      }
    },
    {
      "cell_type": "code",
      "source": [
        "df_corr_erate = df_erate.corr()['Erate'][:-1]\n",
        "key_features_list_rate = df_corr_erate[abs(df_corr_erate) > 0.1].sort_values(ascending=False)\n",
        "print(f\"There are strongly correlated values with Erate:\\n{key_features_list_rate}\")"
      ],
      "metadata": {
        "colab": {
          "base_uri": "https://localhost:8080/"
        },
        "id": "FUymDG3FYTp8",
        "outputId": "d8ed87dc-e926-402d-830c-56a2a4d0aa66"
      },
      "execution_count": null,
      "outputs": [
        {
          "output_type": "stream",
          "name": "stdout",
          "text": [
            "There are strongly correlated values with Erate:\n",
            "Dwn_Rad    0.720288\n",
            "T2M        0.688458\n",
            "WS2M       0.364332\n",
            "Name: Erate, dtype: float64\n"
          ]
        }
      ]
    },
    {
      "cell_type": "markdown",
      "source": [
        "**Observation**\n",
        "\n",
        "from the results we can see that the downward radiation is correlated with the evaporation rate strongly with the value of 0.720288 and the temperature takes second place in the correlation rank. the least correlated among the three parameters is the windspeed.\n",
        "\n",
        "**Note**\n",
        "\n",
        "the maximum and minimum temperature and wind speed values are ignored as part of the pre-processing step of removing irrelevant data. they are removed because they only show a recordings that might have happened for an instant and the monthly value of evaporation rate is determined by the average values of the temperature rather than the highest and lowest"
      ],
      "metadata": {
        "id": "75z-LrfRJnsT"
      }
    },
    {
      "cell_type": "markdown",
      "source": [
        "**Correlation for Evaporation Volume**\n",
        "\n",
        "the evaporation volume is the evaporation rate multiplied by the total time. so the evaporation volume is only dependent on the evaporation rate, other wise we are treating evaporation volume and evaporation rate as independent variables. so we calculated the correlation factor of evaporation rate for the evaporation volume to show the association as follows  "
      ],
      "metadata": {
        "id": "KuIURNtn9GlZ"
      }
    },
    {
      "cell_type": "code",
      "source": [
        "df_erate_two = df.drop(['T2M','WS2M','Dwn_Rad','T2M_MAX','T2M_MIN','WS2M_MIN','WS2M_MAX'], axis=1, inplace=False)\n",
        "df_corr_erate_two = df_erate_two.corr()['Evol'][:-1]\n",
        "key_features_list_rate_two = df_corr_erate_two[abs(df_corr_erate_two) > 0.1].sort_values(ascending=False)\n",
        "print(f\"There are strongly correlated values with Erate:\\n{key_features_list_rate_two}\")"
      ],
      "metadata": {
        "colab": {
          "base_uri": "https://localhost:8080/"
        },
        "id": "cIsg0JLo7uq3",
        "outputId": "11a73a21-be66-410b-cb29-4203981b23ce"
      },
      "execution_count": null,
      "outputs": [
        {
          "output_type": "stream",
          "name": "stdout",
          "text": [
            "There are strongly correlated values with Erate:\n",
            "Erate    0.976836\n",
            "Name: Evol, dtype: float64\n"
          ]
        }
      ]
    },
    {
      "cell_type": "markdown",
      "source": [
        "**Distribution of Temprature**"
      ],
      "metadata": {
        "id": "HgaCPq8YrNNg"
      }
    },
    {
      "cell_type": "code",
      "source": [
        "df_dist = df.drop(['Evol','T2M_MAX','T2M_MIN','WS2M_MIN','WS2M_MAX'], axis=1, inplace=False)\n",
        "fig, ax = plt.subplots()\n",
        "sns.histplot(data=df_dist, x='T2M', kde=True)\n",
        "ax.set_title(\"Histogram and KDE of Temperature\")"
      ],
      "metadata": {
        "colab": {
          "base_uri": "https://localhost:8080/",
          "height": 489
        },
        "id": "i9aBUmJoa50N",
        "outputId": "7220cb22-2b1c-45c0-83a4-bc2e6f011f46"
      },
      "execution_count": null,
      "outputs": [
        {
          "output_type": "execute_result",
          "data": {
            "text/plain": [
              "Text(0.5, 1.0, 'Histogram and KDE of Temperature')"
            ]
          },
          "metadata": {},
          "execution_count": 26
        },
        {
          "output_type": "display_data",
          "data": {
            "text/plain": [
              "<Figure size 640x480 with 1 Axes>"
            ],
            "image/png": "[encoded data removed]"
          },
          "metadata": {}
        }
      ]
    },
    {
      "cell_type": "markdown",
      "source": [],
      "metadata": {
        "id": "_fvO2ABIXl6O"
      }
    },
    {
      "cell_type": "code",
      "source": [
        "# normality of Temprature\n",
        "fig, (ax) = plt.subplots(figsize = (6,6))\n",
        "res = stats.probplot(df_dist['T2M'],dist='norm', plot=ax)"
      ],
      "metadata": {
        "colab": {
          "base_uri": "https://localhost:8080/",
          "height": 564
        },
        "id": "6e3x7O2-riQM",
        "outputId": "6ea0c4e8-1c7f-48da-d2e9-35f5828996f6"
      },
      "execution_count": null,
      "outputs": [
        {
          "output_type": "display_data",
          "data": {
            "text/plain": [
              "<Figure size 600x600 with 1 Axes>"
            ],
            "image/png": "[encoded data removed]"
          },
          "metadata": {}
        }
      ]
    },
    {
      "cell_type": "code",
      "source": [
        "# skewness and kurtosis of Temprature\n",
        "print(f\"Skewness:{df_dist['T2M'].skew()}\")\n",
        "print(f\"Kurtosis: {df_dist['T2M'].kurt()}\")"
      ],
      "metadata": {
        "colab": {
          "base_uri": "https://localhost:8080/"
        },
        "id": "MojGJcL0rvAH",
        "outputId": "1a1b19ba-d79f-4a13-ba41-ec76607a7e89"
      },
      "execution_count": null,
      "outputs": [
        {
          "output_type": "stream",
          "name": "stdout",
          "text": [
            "Skewness:0.45326241839811476\n",
            "Kurtosis: -0.6267914604221647\n"
          ]
        }
      ]
    },
    {
      "cell_type": "markdown",
      "source": [
        "### **Observation**\n",
        "* Many points lie out of the red straight line implying that the data is not normally distributed.\n",
        "* Skewness is less than  between -0.5 and 0.5\n",
        "    * it is slightly right skewwed\n",
        "    * the distribution is approximately symmetric\n",
        "* Kurtosis is less than 1\n",
        "    * the distribution is lightly tailed\n",
        "    * outliers are compromisable"
      ],
      "metadata": {
        "id": "vHBt5idcLV5R"
      }
    },
    {
      "cell_type": "markdown",
      "source": [
        "**Distribution of Wind Speed**"
      ],
      "metadata": {
        "id": "4sG1rIkZsSAI"
      }
    },
    {
      "cell_type": "code",
      "source": [
        "df_dist = df.drop(['Evol','T2M_MAX','T2M_MIN','WS2M_MIN','WS2M_MAX'], axis=1, inplace=False)\n",
        "fig, ax = plt.subplots()\n",
        "sns.histplot(data=df_dist, x='WS2M', kde=True)\n",
        "ax.set_title(\"Histogram and KDE of Wind Speed\")"
      ],
      "metadata": {
        "colab": {
          "base_uri": "https://localhost:8080/",
          "height": 489
        },
        "id": "_yUJb7gLdmom",
        "outputId": "7d181950-9ef2-4d70-b685-52da47c3f8c0"
      },
      "execution_count": null,
      "outputs": [
        {
          "output_type": "execute_result",
          "data": {
            "text/plain": [
              "Text(0.5, 1.0, 'Histogram and KDE of Wind Speed')"
            ]
          },
          "metadata": {},
          "execution_count": 29
        },
        {
          "output_type": "display_data",
          "data": {
            "text/plain": [
              "<Figure size 640x480 with 1 Axes>"
            ],
            "image/png": "[encoded data removed]"
          },
          "metadata": {}
        }
      ]
    },
    {
      "cell_type": "code",
      "source": [
        "# normality of Wind Speed\n",
        "fig, (ax) = plt.subplots(figsize = (6,6))\n",
        "res = stats.probplot(df_dist['WS2M'],dist='norm', plot=ax)"
      ],
      "metadata": {
        "colab": {
          "base_uri": "https://localhost:8080/",
          "height": 564
        },
        "id": "dWLMfkZ-sYze",
        "outputId": "e050c862-fe2b-443a-9bae-f7d8592bec9f"
      },
      "execution_count": null,
      "outputs": [
        {
          "output_type": "display_data",
          "data": {
            "text/plain": [
              "<Figure size 600x600 with 1 Axes>"
            ],
            "image/png": "[encoded data removed]"
          },
          "metadata": {}
        }
      ]
    },
    {
      "cell_type": "code",
      "source": [
        "# skewness and kurtosis of wind speed\n",
        "print(f\"Skewness:{df_dist['WS2M'].skew()}\")\n",
        "print(f\"Kurtosis: {df_dist['WS2M'].kurt()}\")"
      ],
      "metadata": {
        "colab": {
          "base_uri": "https://localhost:8080/"
        },
        "id": "41Iyt9ACsk6k",
        "outputId": "65b00460-2c59-4382-eabb-edb042b9c77c"
      },
      "execution_count": null,
      "outputs": [
        {
          "output_type": "stream",
          "name": "stdout",
          "text": [
            "Skewness:0.21162620874830232\n",
            "Kurtosis: 0.07562888820950464\n"
          ]
        }
      ]
    },
    {
      "cell_type": "markdown",
      "source": [
        "### **Observation**\n",
        "* Many points lie on the red straight line implying that the data is normally distributed.\n",
        "* Skewness is less than between -0.5 and 0.5\n",
        "    * it is slightly right skewwed\n",
        "    * the distribution is approximately symmetric\n",
        "* Kurtosis is less than 1\n",
        "    * the distribution is lightly tailed\n",
        "    * outliers are compromisable"
      ],
      "metadata": {
        "id": "xW0yWgXFMVlG"
      }
    },
    {
      "cell_type": "markdown",
      "source": [
        "**Distribution of Downward radiation**"
      ],
      "metadata": {
        "id": "AOi-wybmstpQ"
      }
    },
    {
      "cell_type": "code",
      "source": [
        "df_dist = df.drop(['Evol','T2M_MAX','T2M_MIN','WS2M_MIN','WS2M_MAX'], axis=1, inplace=False)\n",
        "fig, ax = plt.subplots()\n",
        "sns.histplot(data=df_dist, x='Dwn_Rad', kde=True)\n",
        "ax.set_title(\"Histogram and KDE of Downward Radiation\")"
      ],
      "metadata": {
        "colab": {
          "base_uri": "https://localhost:8080/",
          "height": 489
        },
        "id": "GCZS-7phd2zA",
        "outputId": "12cd6570-e008-4691-f266-2e441a1252c2"
      },
      "execution_count": null,
      "outputs": [
        {
          "output_type": "execute_result",
          "data": {
            "text/plain": [
              "Text(0.5, 1.0, 'Histogram and KDE of Downward Radiation')"
            ]
          },
          "metadata": {},
          "execution_count": 32
        },
        {
          "output_type": "display_data",
          "data": {
            "text/plain": [
              "<Figure size 640x480 with 1 Axes>"
            ],
            "image/png": "[encoded data removed]"
          },
          "metadata": {}
        }
      ]
    },
    {
      "cell_type": "code",
      "source": [
        "# normality of Downward Radiation\n",
        "fig, (ax) = plt.subplots(figsize = (6,6))\n",
        "res = stats.probplot(df_dist['Dwn_Rad'],dist='norm', plot=ax)"
      ],
      "metadata": {
        "colab": {
          "base_uri": "https://localhost:8080/",
          "height": 564
        },
        "id": "EM4AVpPttVv_",
        "outputId": "887381b9-d492-4503-97e7-3d3f7bff799a"
      },
      "execution_count": null,
      "outputs": [
        {
          "output_type": "display_data",
          "data": {
            "text/plain": [
              "<Figure size 600x600 with 1 Axes>"
            ],
            "image/png": "[encoded data removed]"
          },
          "metadata": {}
        }
      ]
    },
    {
      "cell_type": "code",
      "source": [
        "# skewness and kurtosis of Downward Radiation\n",
        "print(f\"Skewness:{df_dist['Dwn_Rad'].skew()}\")\n",
        "\n",
        "print(f\"Kurtosis: {df_dist['Dwn_Rad'].kurt()}\")"
      ],
      "metadata": {
        "colab": {
          "base_uri": "https://localhost:8080/"
        },
        "id": "5NJnwYkUtjSn",
        "outputId": "4d3219c0-90fb-447c-a043-c62b28453baf"
      },
      "execution_count": null,
      "outputs": [
        {
          "output_type": "stream",
          "name": "stdout",
          "text": [
            "Skewness:-0.10945129304678858\n",
            "Kurtosis: 0.12042219808787058\n"
          ]
        }
      ]
    },
    {
      "cell_type": "markdown",
      "source": [
        "### **Observation**\n",
        "* Many points lie out of the red straight line implying that the data is normally distributed.\n",
        "* Skewness is less than between -0.5 and 0.5\n",
        "    * it is slightly right skewwed\n",
        "    * the distribution is approximately symmetric\n",
        "* Kurtosis is less than 1\n",
        "    * the distribution is lightly tailed\n",
        "    * outliers are compromisable"
      ],
      "metadata": {
        "id": "rO7SC0hNMgbh"
      }
    },
    {
      "cell_type": "markdown",
      "source": [],
      "metadata": {
        "id": "2BaOVSxbs3mO"
      }
    },
    {
      "cell_type": "markdown",
      "source": [],
      "metadata": {
        "id": "JgEd4o1AtLxA"
      }
    },
    {
      "cell_type": "code",
      "source": [
        "df.describe()"
      ],
      "metadata": {
        "colab": {
          "base_uri": "https://localhost:8080/",
          "height": 300
        },
        "id": "hYCLn4yhhBwU",
        "outputId": "c172a731-af79-4cd5-b8a7-088b487251a0"
      },
      "execution_count": null,
      "outputs": [
        {
          "output_type": "execute_result",
          "data": {
            "text/plain": [
              "                                Date         T2M        WS2M     T2M_MAX  \\\n",
              "count                            408  408.000000  408.000000  408.000000   \n",
              "mean   2001-12-15 23:03:31.764705920   21.121691    2.905441   26.771029   \n",
              "min              1985-01-01 00:00:00   17.510000    2.000000   21.990000   \n",
              "25%              1993-06-23 12:00:00   19.937500    2.660000   24.577500   \n",
              "50%              2001-12-16 12:00:00   20.730000    2.900000   26.590000   \n",
              "75%              2010-06-08 12:00:00   22.437500    3.122500   28.995000   \n",
              "max              2018-12-01 00:00:00   25.870000    4.210000   31.940000   \n",
              "std                              NaN    1.711572    0.321630    2.490751   \n",
              "\n",
              "          T2M_MIN    WS2M_MAX    WS2M_MIN     Dwn_Rad       Erate        Evol  \n",
              "count  408.000000  408.000000  408.000000  408.000000  408.000000  408.000000  \n",
              "mean    15.802647    6.550588    0.175539   21.926054    4.593035  425.720640  \n",
              "min     11.550000    4.080000    0.010000   16.630000    3.133073  298.530000  \n",
              "25%     14.705000    5.827500    0.100000   20.817500    4.151982  383.160000  \n",
              "50%     15.830000    6.625000    0.160000   21.870000    4.713277  435.490500  \n",
              "75%     16.885000    7.242500    0.230000   23.217500    5.022304  466.455250  \n",
              "max     20.140000    9.120000    0.880000   27.100000    6.097952  551.517000  \n",
              "std      1.626694    0.964247    0.108445    1.948518    0.617738   56.199911  "
            ],
            "text/html": [
              "\n",
              "  <div id=\"df-925779be-cead-4c18-8584-4aaacbab9a00\" class=\"colab-df-container\">\n",
              "    <div>\n",
              "<style scoped>\n",
              "    .dataframe tbody tr th:only-of-type {\n",
              "        vertical-align: middle;\n",
              "    }\n",
              "\n",
              "    .dataframe tbody tr th {\n",
              "        vertical-align: top;\n",
              "    }\n",
              "\n",
              "    .dataframe thead th {\n",
              "        text-align: right;\n",
              "    }\n",
              "</style>\n",
              "<table border=\"1\" class=\"dataframe\">\n",
              "  <thead>\n",
              "    <tr style=\"text-align: right;\">\n",
              "      <th></th>\n",
              "      <th>Date</th>\n",
              "      <th>T2M</th>\n",
              "      <th>WS2M</th>\n",
              "      <th>T2M_MAX</th>\n",
              "      <th>T2M_MIN</th>\n",
              "      <th>WS2M_MAX</th>\n",
              "      <th>WS2M_MIN</th>\n",
              "      <th>Dwn_Rad</th>\n",
              "      <th>Erate</th>\n",
              "      <th>Evol</th>\n",
              "    </tr>\n",
              "  </thead>\n",
              "  <tbody>\n",
              "    <tr>\n",
              "      <th>count</th>\n",
              "      <td>408</td>\n",
              "      <td>408.000000</td>\n",
              "      <td>408.000000</td>\n",
              "      <td>408.000000</td>\n",
              "      <td>408.000000</td>\n",
              "      <td>408.000000</td>\n",
              "      <td>408.000000</td>\n",
              "      <td>408.000000</td>\n",
              "      <td>408.000000</td>\n",
              "      <td>408.000000</td>\n",
              "    </tr>\n",
              "    <tr>\n",
              "      <th>mean</th>\n",
              "      <td>2001-12-15 23:03:31.764705920</td>\n",
              "      <td>21.121691</td>\n",
              "      <td>2.905441</td>\n",
              "      <td>26.771029</td>\n",
              "      <td>15.802647</td>\n",
              "      <td>6.550588</td>\n",
              "      <td>0.175539</td>\n",
              "      <td>21.926054</td>\n",
              "      <td>4.593035</td>\n",
              "      <td>425.720640</td>\n",
              "    </tr>\n",
              "    <tr>\n",
              "      <th>min</th>\n",
              "      <td>1985-01-01 00:00:00</td>\n",
              "      <td>17.510000</td>\n",
              "      <td>2.000000</td>\n",
              "      <td>21.990000</td>\n",
              "      <td>11.550000</td>\n",
              "      <td>4.080000</td>\n",
              "      <td>0.010000</td>\n",
              "      <td>16.630000</td>\n",
              "      <td>3.133073</td>\n",
              "      <td>298.530000</td>\n",
              "    </tr>\n",
              "    <tr>\n",
              "      <th>25%</th>\n",
              "      <td>1993-06-23 12:00:00</td>\n",
              "      <td>19.937500</td>\n",
              "      <td>2.660000</td>\n",
              "      <td>24.577500</td>\n",
              "      <td>14.705000</td>\n",
              "      <td>5.827500</td>\n",
              "      <td>0.100000</td>\n",
              "      <td>20.817500</td>\n",
              "      <td>4.151982</td>\n",
              "      <td>383.160000</td>\n",
              "    </tr>\n",
              "    <tr>\n",
              "      <th>50%</th>\n",
              "      <td>2001-12-16 12:00:00</td>\n",
              "      <td>20.730000</td>\n",
              "      <td>2.900000</td>\n",
              "      <td>26.590000</td>\n",
              "      <td>15.830000</td>\n",
              "      <td>6.625000</td>\n",
              "      <td>0.160000</td>\n",
              "      <td>21.870000</td>\n",
              "      <td>4.713277</td>\n",
              "      <td>435.490500</td>\n",
              "    </tr>\n",
              "    <tr>\n",
              "      <th>75%</th>\n",
              "      <td>2010-06-08 12:00:00</td>\n",
              "      <td>22.437500</td>\n",
              "      <td>3.122500</td>\n",
              "      <td>28.995000</td>\n",
              "      <td>16.885000</td>\n",
              "      <td>7.242500</td>\n",
              "      <td>0.230000</td>\n",
              "      <td>23.217500</td>\n",
              "      <td>5.022304</td>\n",
              "      <td>466.455250</td>\n",
              "    </tr>\n",
              "    <tr>\n",
              "      <th>max</th>\n",
              "      <td>2018-12-01 00:00:00</td>\n",
              "      <td>25.870000</td>\n",
              "      <td>4.210000</td>\n",
              "      <td>31.940000</td>\n",
              "      <td>20.140000</td>\n",
              "      <td>9.120000</td>\n",
              "      <td>0.880000</td>\n",
              "      <td>27.100000</td>\n",
              "      <td>6.097952</td>\n",
              "      <td>551.517000</td>\n",
              "    </tr>\n",
              "    <tr>\n",
              "      <th>std</th>\n",
              "      <td>NaN</td>\n",
              "      <td>1.711572</td>\n",
              "      <td>0.321630</td>\n",
              "      <td>2.490751</td>\n",
              "      <td>1.626694</td>\n",
              "      <td>0.964247</td>\n",
              "      <td>0.108445</td>\n",
              "      <td>1.948518</td>\n",
              "      <td>0.617738</td>\n",
              "      <td>56.199911</td>\n",
              "    </tr>\n",
              "  </tbody>\n",
              "</table>\n",
              "</div>\n",
              "    <div class=\"colab-df-buttons\">\n",
              "\n",
              "  <div class=\"colab-df-container\">\n",
              "    <button class=\"colab-df-convert\" onclick=\"convertToInteractive('df-925779be-cead-4c18-8584-4aaacbab9a00')\"\n",
              "            title=\"Convert this dataframe to an interactive table.\"\n",
              "            style=\"display:none;\">\n",
              "\n",
              "  <svg xmlns=\"http://www.w3.org/2000/svg\" height=\"24px\" viewBox=\"0 -960 960 960\">\n",
              "    <path d=\"M120-120v-720h720v720H120Zm60-500h600v-160H180v160Zm220 220h160v-160H400v160Zm0 220h160v-160H400v160ZM180-400h160v-160H180v160Zm440 0h160v-160H620v160ZM180-180h160v-160H180v160Zm440 0h160v-160H620v160Z\"/>\n",
              "  </svg>\n",
              "    </button>\n",
              "\n",
              "  <style>\n",
              "    .colab-df-container {\n",
              "      display:flex;\n",
              "      gap: 12px;\n",
              "    }\n",
              "\n",
              "    .colab-df-convert {\n",
              "      background-color: #E8F0FE;\n",
              "      border: none;\n",
              "      border-radius: 50%;\n",
              "      cursor: pointer;\n",
              "      display: none;\n",
              "      fill: #1967D2;\n",
              "      height: 32px;\n",
              "      padding: 0 0 0 0;\n",
              "      width: 32px;\n",
              "    }\n",
              "\n",
              "    .colab-df-convert:hover {\n",
              "      background-color: #E2EBFA;\n",
              "      box-shadow: 0px 1px 2px rgba(60, 64, 67, 0.3), 0px 1px 3px 1px rgba(60, 64, 67, 0.15);\n",
              "      fill: #174EA6;\n",
              "    }\n",
              "\n",
              "    .colab-df-buttons div {\n",
              "      margin-bottom: 4px;\n",
              "    }\n",
              "\n",
              "    [theme=dark] .colab-df-convert {\n",
              "      background-color: #3B4455;\n",
              "      fill: #D2E3FC;\n",
              "    }\n",
              "\n",
              "    [theme=dark] .colab-df-convert:hover {\n",
              "      background-color: #434B5C;\n",
              "      box-shadow: 0px 1px 3px 1px rgba(0, 0, 0, 0.15);\n",
              "      filter: drop-shadow(0px 1px 2px rgba(0, 0, 0, 0.3));\n",
              "      fill: #FFFFFF;\n",
              "    }\n",
              "  </style>\n",
              "\n",
              "    <script>\n",
              "      const buttonEl =\n",
              "        document.querySelector('#df-925779be-cead-4c18-8584-4aaacbab9a00 button.colab-df-convert');\n",
              "      buttonEl.style.display =\n",
              "        google.colab.kernel.accessAllowed ? 'block' : 'none';\n",
              "\n",
              "      async function convertToInteractive(key) {\n",
              "        const element = document.querySelector('#df-925779be-cead-4c18-8584-4aaacbab9a00');\n",
              "        const dataTable =\n",
              "          await google.colab.kernel.invokeFunction('convertToInteractive',\n",
              "                                                    [key], {});\n",
              "        if (!dataTable) return;\n",
              "\n",
              "        const docLinkHtml = 'Like what you see? Visit the ' +\n",
              "          '<a target=\"_blank\" href=https://colab.research.google.com/notebooks/data_table.ipynb>data table notebook</a>'\n",
              "          + ' to learn more about interactive tables.';\n",
              "        element.innerHTML = '';\n",
              "        dataTable['output_type'] = 'display_data';\n",
              "        await google.colab.output.renderOutput(dataTable, element);\n",
              "        const docLink = document.createElement('div');\n",
              "        docLink.innerHTML = docLinkHtml;\n",
              "        element.appendChild(docLink);\n",
              "      }\n",
              "    </script>\n",
              "  </div>\n",
              "\n",
              "\n",
              "<div id=\"df-0e9c90b8-6492-47c4-a191-7d0cf9256a85\">\n",
              "  <button class=\"colab-df-quickchart\" onclick=\"quickchart('df-0e9c90b8-6492-47c4-a191-7d0cf9256a85')\"\n",
              "            title=\"Suggest charts\"\n",
              "            style=\"display:none;\">\n",
              "\n",
              "<svg xmlns=\"http://www.w3.org/2000/svg\" height=\"24px\"viewBox=\"0 0 24 24\"\n",
              "     width=\"24px\">\n",
              "    <g>\n",
              "        <path d=\"M19 3H5c-1.1 0-2 .9-2 2v14c0 1.1.9 2 2 2h14c1.1 0 2-.9 2-2V5c0-1.1-.9-2-2-2zM9 17H7v-7h2v7zm4 0h-2V7h2v10zm4 0h-2v-4h2v4z\"/>\n",
              "    </g>\n",
              "</svg>\n",
              "  </button>\n",
              "\n",
              "<style>\n",
              "  .colab-df-quickchart {\n",
              "      --bg-color: #E8F0FE;\n",
              "      --fill-color: #1967D2;\n",
              "      --hover-bg-color: #E2EBFA;\n",
              "      --hover-fill-color: #174EA6;\n",
              "      --disabled-fill-color: #AAA;\n",
              "      --disabled-bg-color: #DDD;\n",
              "  }\n",
              "\n",
              "  [theme=dark] .colab-df-quickchart {\n",
              "      --bg-color: #3B4455;\n",
              "      --fill-color: #D2E3FC;\n",
              "      --hover-bg-color: #434B5C;\n",
              "      --hover-fill-color: #FFFFFF;\n",
              "      --disabled-bg-color: #3B4455;\n",
              "      --disabled-fill-color: #666;\n",
              "  }\n",
              "\n",
              "  .colab-df-quickchart {\n",
              "    background-color: var(--bg-color);\n",
              "    border: none;\n",
              "    border-radius: 50%;\n",
              "    cursor: pointer;\n",
              "    display: none;\n",
              "    fill: var(--fill-color);\n",
              "    height: 32px;\n",
              "    padding: 0;\n",
              "    width: 32px;\n",
              "  }\n",
              "\n",
              "  .colab-df-quickchart:hover {\n",
              "    background-color: var(--hover-bg-color);\n",
              "    box-shadow: 0 1px 2px rgba(60, 64, 67, 0.3), 0 1px 3px 1px rgba(60, 64, 67, 0.15);\n",
              "    fill: var(--button-hover-fill-color);\n",
              "  }\n",
              "\n",
              "  .colab-df-quickchart-complete:disabled,\n",
              "  .colab-df-quickchart-complete:disabled:hover {\n",
              "    background-color: var(--disabled-bg-color);\n",
              "    fill: var(--disabled-fill-color);\n",
              "    box-shadow: none;\n",
              "  }\n",
              "\n",
              "  .colab-df-spinner {\n",
              "    border: 2px solid var(--fill-color);\n",
              "    border-color: transparent;\n",
              "    border-bottom-color: var(--fill-color);\n",
              "    animation:\n",
              "      spin 1s steps(1) infinite;\n",
              "  }\n",
              "\n",
              "  @keyframes spin {\n",
              "    0% {\n",
              "      border-color: transparent;\n",
              "      border-bottom-color: var(--fill-color);\n",
              "      border-left-color: var(--fill-color);\n",
              "    }\n",
              "    20% {\n",
              "      border-color: transparent;\n",
              "      border-left-color: var(--fill-color);\n",
              "      border-top-color: var(--fill-color);\n",
              "    }\n",
              "    30% {\n",
              "      border-color: transparent;\n",
              "      border-left-color: var(--fill-color);\n",
              "      border-top-color: var(--fill-color);\n",
              "      border-right-color: var(--fill-color);\n",
              "    }\n",
              "    40% {\n",
              "      border-color: transparent;\n",
              "      border-right-color: var(--fill-color);\n",
              "      border-top-color: var(--fill-color);\n",
              "    }\n",
              "    60% {\n",
              "      border-color: transparent;\n",
              "      border-right-color: var(--fill-color);\n",
              "    }\n",
              "    80% {\n",
              "      border-color: transparent;\n",
              "      border-right-color: var(--fill-color);\n",
              "      border-bottom-color: var(--fill-color);\n",
              "    }\n",
              "    90% {\n",
              "      border-color: transparent;\n",
              "      border-bottom-color: var(--fill-color);\n",
              "    }\n",
              "  }\n",
              "</style>\n",
              "\n",
              "  <script>\n",
              "    async function quickchart(key) {\n",
              "      const quickchartButtonEl =\n",
              "        document.querySelector('#' + key + ' button');\n",
              "      quickchartButtonEl.disabled = true;  // To prevent multiple clicks.\n",
              "      quickchartButtonEl.classList.add('colab-df-spinner');\n",
              "      try {\n",
              "        const charts = await google.colab.kernel.invokeFunction(\n",
              "            'suggestCharts', [key], {});\n",
              "      } catch (error) {\n",
              "        console.error('Error during call to suggestCharts:', error);\n",
              "      }\n",
              "      quickchartButtonEl.classList.remove('colab-df-spinner');\n",
              "      quickchartButtonEl.classList.add('colab-df-quickchart-complete');\n",
              "    }\n",
              "    (() => {\n",
              "      let quickchartButtonEl =\n",
              "        document.querySelector('#df-0e9c90b8-6492-47c4-a191-7d0cf9256a85 button');\n",
              "      quickchartButtonEl.style.display =\n",
              "        google.colab.kernel.accessAllowed ? 'block' : 'none';\n",
              "    })();\n",
              "  </script>\n",
              "</div>\n",
              "\n",
              "    </div>\n",
              "  </div>\n"
            ],
            "application/vnd.google.colaboratory.intrinsic+json": {
              "type": "dataframe",
              "summary": "{\n  \"name\": \"df\",\n  \"rows\": 8,\n  \"fields\": [\n    {\n      \"column\": \"Date\",\n      \"properties\": {\n        \"dtype\": \"date\",\n        \"min\": \"1970-01-01 00:00:00.000000408\",\n        \"max\": \"2018-12-01 00:00:00\",\n        \"num_unique_values\": 7,\n        \"samples\": [\n          \"408\",\n          \"2001-12-15 23:03:31.764705920\",\n          \"2010-06-08 12:00:00\"\n        ],\n        \"semantic_type\": \"\",\n        \"description\": \"\"\n      }\n    },\n    {\n      \"column\": \"T2M\",\n      \"properties\": {\n        \"dtype\": \"number\",\n        \"std\": 137.90821276037144,\n        \"min\": 1.711572070079652,\n        \"max\": 408.0,\n        \"num_unique_values\": 8,\n        \"samples\": [\n          21.121691176470584,\n          22.4375,\n          408.0\n        ],\n        \"semantic_type\": \"\",\n        \"description\": \"\"\n      }\n    },\n    {\n      \"column\": \"WS2M\",\n      \"properties\": {\n        \"dtype\": \"number\",\n        \"std\": 143.33889343595072,\n        \"min\": 0.3216302170681272,\n        \"max\": 408.0,\n        \"num_unique_values\": 8,\n        \"samples\": [\n          2.9054411764705885,\n          3.1225,\n          408.0\n        ],\n        \"semantic_type\": \"\",\n        \"description\": \"\"\n      }\n    },\n    {\n      \"column\": \"T2M_MAX\",\n      \"properties\": {\n        \"dtype\": \"number\",\n        \"std\": 136.29625974207394,\n        \"min\": 2.4907512299606545,\n        \"max\": 408.0,\n        \"num_unique_values\": 8,\n        \"samples\": [\n          26.77102941176471,\n          28.994999999999997,\n          408.0\n        ],\n        \"semantic_type\": \"\",\n        \"description\": \"\"\n      }\n    },\n    {\n      \"column\": \"T2M_MIN\",\n      \"properties\": {\n        \"dtype\": \"number\",\n        \"std\": 139.48237353944606,\n        \"min\": 1.6266940451123884,\n        \"max\": 408.0,\n        \"num_unique_values\": 8,\n        \"samples\": [\n          15.802647058823528,\n          16.884999999999998,\n          408.0\n        ],\n        \"semantic_type\": \"\",\n        \"description\": \"\"\n      }\n    },\n    {\n      \"column\": \"WS2M_MAX\",\n      \"properties\": {\n        \"dtype\": \"number\",\n        \"std\": 142.2292126072596,\n        \"min\": 0.9642469262079846,\n        \"max\": 408.0,\n        \"num_unique_values\": 8,\n        \"samples\": [\n          6.550588235294119,\n          7.2425,\n          408.0\n        ],\n        \"semantic_type\": \"\",\n        \"description\": \"\"\n      }\n    },\n    {\n      \"column\": \"WS2M_MIN\",\n      \"properties\": {\n        \"dtype\": \"number\",\n        \"std\": 144.16599214691297,\n        \"min\": 0.01,\n        \"max\": 408.0,\n        \"num_unique_values\": 8,\n        \"samples\": [\n          0.1755392156862745,\n          0.23,\n          408.0\n        ],\n        \"semantic_type\": \"\",\n        \"description\": \"\"\n      }\n    },\n    {\n      \"column\": \"Dwn_Rad\",\n      \"properties\": {\n        \"dtype\": \"number\",\n        \"std\": 137.71407021899117,\n        \"min\": 1.9485177046264088,\n        \"max\": 408.0,\n        \"num_unique_values\": 8,\n        \"samples\": [\n          21.92605392156863,\n          23.2175,\n          408.0\n        ],\n        \"semantic_type\": \"\",\n        \"description\": \"\"\n      }\n    },\n    {\n      \"column\": \"Erate\",\n      \"properties\": {\n        \"dtype\": \"number\",\n        \"std\": 142.82818964638273,\n        \"min\": 0.6177377160090827,\n        \"max\": 408.0,\n        \"num_unique_values\": 8,\n        \"samples\": [\n          4.593035312009804,\n          5.0223041749999995,\n          408.0\n        ],\n        \"semantic_type\": \"\",\n        \"description\": \"\"\n      }\n    },\n    {\n      \"column\": \"Evol\",\n      \"properties\": {\n        \"dtype\": \"number\",\n        \"std\": 148.47421961016886,\n        \"min\": 56.19991122895655,\n        \"max\": 551.517,\n        \"num_unique_values\": 8,\n        \"samples\": [\n          425.7206397058824,\n          466.45525000000004,\n          408.0\n        ],\n        \"semantic_type\": \"\",\n        \"description\": \"\"\n      }\n    }\n  ]\n}"
            }
          },
          "metadata": {},
          "execution_count": 35
        }
      ]
    },
    {
      "cell_type": "code",
      "source": [
        "to_norm = df.drop(['T2M_MAX','T2M_MIN','WS2M_MIN','WS2M_MAX'], axis=1, inplace=False)"
      ],
      "metadata": {
        "id": "XYnl47_FK2h3"
      },
      "execution_count": null,
      "outputs": []
    },
    {
      "cell_type": "code",
      "source": [
        "outliers = []\n",
        "def detect_outliers_zscore(data):\n",
        "    thres = 3 # the accepted z-score range is [-3, 3]\n",
        "    mean = np.mean(data)\n",
        "    std = np.std(data)\n",
        "    # print(mean, std)\n",
        "    for i in data:\n",
        "        z_score = (i-mean)/std #standard scaler\n",
        "        if (np.abs(z_score) > thres):\n",
        "            outliers.append(i)\n",
        "    return outliers"
      ],
      "metadata": {
        "id": "qQNqaGMSOlFH"
      },
      "execution_count": null,
      "outputs": []
    },
    {
      "cell_type": "markdown",
      "source": [
        "**Z-Score for T2M**"
      ],
      "metadata": {
        "id": "JkzSpXU0RgfE"
      }
    },
    {
      "cell_type": "code",
      "source": [
        "outlier_pts = detect_outliers_zscore(to_norm['T2M'])\n",
        "print(\"Outliers from Z-scores method: \", outlier_pts)"
      ],
      "metadata": {
        "colab": {
          "base_uri": "https://localhost:8080/"
        },
        "id": "8cHw6beHPkuR",
        "outputId": "1e225525-ad8a-4b40-dda7-f4da4f9d5e79"
      },
      "execution_count": null,
      "outputs": [
        {
          "output_type": "stream",
          "name": "stdout",
          "text": [
            "Outliers from Z-scores method:  []\n"
          ]
        }
      ]
    },
    {
      "cell_type": "markdown",
      "source": [
        "Z-Score for WS2M"
      ],
      "metadata": {
        "id": "LjDU2QfcSBce"
      }
    },
    {
      "cell_type": "code",
      "source": [
        "outlier_pts = detect_outliers_zscore(to_norm['Dwn_Rad'])\n",
        "print(\"Outliers from Z-scores method: \", outlier_pts)"
      ],
      "metadata": {
        "colab": {
          "base_uri": "https://localhost:8080/"
        },
        "id": "z2tTORZ_Rt60",
        "outputId": "e5db8cb3-2d50-4c28-a136-e862314b9ab4"
      },
      "execution_count": null,
      "outputs": [
        {
          "output_type": "stream",
          "name": "stdout",
          "text": [
            "Outliers from Z-scores method:  []\n"
          ]
        }
      ]
    },
    {
      "cell_type": "markdown",
      "source": [
        "Z-Score for Dwn_Rad"
      ],
      "metadata": {
        "id": "DK1d0muGSFrI"
      }
    },
    {
      "cell_type": "code",
      "source": [
        "outlier_pts = detect_outliers_zscore(to_norm['WS2M'])\n",
        "print(\"Outliers from Z-scores method: \", outlier_pts)"
      ],
      "metadata": {
        "colab": {
          "base_uri": "https://localhost:8080/"
        },
        "id": "JT2ccMJhR0ww",
        "outputId": "36c00570-9034-4a5a-8a59-43d8cc875123"
      },
      "execution_count": null,
      "outputs": [
        {
          "output_type": "stream",
          "name": "stdout",
          "text": [
            "Outliers from Z-scores method:  [4.21]\n"
          ]
        }
      ]
    },
    {
      "cell_type": "markdown",
      "source": [
        "here we have 1 outlier on the wind speed column so we transform the data for model training efficiency and replace the value by the 99.8th percentile"
      ],
      "metadata": {
        "id": "JpRCZPvoGEYh"
      }
    },
    {
      "cell_type": "code",
      "source": [
        "search_value = 3.871173\n",
        "search_results = df[df['WS2M'] == search_value]\n",
        "search_results\n",
        "# df.loc[76, 'WS2M'] = 3.871173 this was done to replace the value 4.21 previously found on the z-score index"
      ],
      "metadata": {
        "colab": {
          "base_uri": "https://localhost:8080/",
          "height": 89
        },
        "id": "3XwA99KZF_e2",
        "outputId": "c9b231c0-8e08-4546-fb8e-cf5f73260063"
      },
      "execution_count": null,
      "outputs": [
        {
          "output_type": "execute_result",
          "data": {
            "text/plain": [
              "Empty DataFrame\n",
              "Columns: [Date, T2M, WS2M, T2M_MAX, T2M_MIN, WS2M_MAX, WS2M_MIN, Dwn_Rad, Erate, Evol]\n",
              "Index: []"
            ],
            "text/html": [
              "\n",
              "  <div id=\"df-cc48944a-4242-4455-a657-658d4bed09fb\" class=\"colab-df-container\">\n",
              "    <div>\n",
              "<style scoped>\n",
              "    .dataframe tbody tr th:only-of-type {\n",
              "        vertical-align: middle;\n",
              "    }\n",
              "\n",
              "    .dataframe tbody tr th {\n",
              "        vertical-align: top;\n",
              "    }\n",
              "\n",
              "    .dataframe thead th {\n",
              "        text-align: right;\n",
              "    }\n",
              "</style>\n",
              "<table border=\"1\" class=\"dataframe\">\n",
              "  <thead>\n",
              "    <tr style=\"text-align: right;\">\n",
              "      <th></th>\n",
              "      <th>Date</th>\n",
              "      <th>T2M</th>\n",
              "      <th>WS2M</th>\n",
              "      <th>T2M_MAX</th>\n",
              "      <th>T2M_MIN</th>\n",
              "      <th>WS2M_MAX</th>\n",
              "      <th>WS2M_MIN</th>\n",
              "      <th>Dwn_Rad</th>\n",
              "      <th>Erate</th>\n",
              "      <th>Evol</th>\n",
              "    </tr>\n",
              "  </thead>\n",
              "  <tbody>\n",
              "  </tbody>\n",
              "</table>\n",
              "</div>\n",
              "    <div class=\"colab-df-buttons\">\n",
              "\n",
              "  <div class=\"colab-df-container\">\n",
              "    <button class=\"colab-df-convert\" onclick=\"convertToInteractive('df-cc48944a-4242-4455-a657-658d4bed09fb')\"\n",
              "            title=\"Convert this dataframe to an interactive table.\"\n",
              "            style=\"display:none;\">\n",
              "\n",
              "  <svg xmlns=\"http://www.w3.org/2000/svg\" height=\"24px\" viewBox=\"0 -960 960 960\">\n",
              "    <path d=\"M120-120v-720h720v720H120Zm60-500h600v-160H180v160Zm220 220h160v-160H400v160Zm0 220h160v-160H400v160ZM180-400h160v-160H180v160Zm440 0h160v-160H620v160ZM180-180h160v-160H180v160Zm440 0h160v-160H620v160Z\"/>\n",
              "  </svg>\n",
              "    </button>\n",
              "\n",
              "  <style>\n",
              "    .colab-df-container {\n",
              "      display:flex;\n",
              "      gap: 12px;\n",
              "    }\n",
              "\n",
              "    .colab-df-convert {\n",
              "      background-color: #E8F0FE;\n",
              "      border: none;\n",
              "      border-radius: 50%;\n",
              "      cursor: pointer;\n",
              "      display: none;\n",
              "      fill: #1967D2;\n",
              "      height: 32px;\n",
              "      padding: 0 0 0 0;\n",
              "      width: 32px;\n",
              "    }\n",
              "\n",
              "    .colab-df-convert:hover {\n",
              "      background-color: #E2EBFA;\n",
              "      box-shadow: 0px 1px 2px rgba(60, 64, 67, 0.3), 0px 1px 3px 1px rgba(60, 64, 67, 0.15);\n",
              "      fill: #174EA6;\n",
              "    }\n",
              "\n",
              "    .colab-df-buttons div {\n",
              "      margin-bottom: 4px;\n",
              "    }\n",
              "\n",
              "    [theme=dark] .colab-df-convert {\n",
              "      background-color: #3B4455;\n",
              "      fill: #D2E3FC;\n",
              "    }\n",
              "\n",
              "    [theme=dark] .colab-df-convert:hover {\n",
              "      background-color: #434B5C;\n",
              "      box-shadow: 0px 1px 3px 1px rgba(0, 0, 0, 0.15);\n",
              "      filter: drop-shadow(0px 1px 2px rgba(0, 0, 0, 0.3));\n",
              "      fill: #FFFFFF;\n",
              "    }\n",
              "  </style>\n",
              "\n",
              "    <script>\n",
              "      const buttonEl =\n",
              "        document.querySelector('#df-cc48944a-4242-4455-a657-658d4bed09fb button.colab-df-convert');\n",
              "      buttonEl.style.display =\n",
              "        google.colab.kernel.accessAllowed ? 'block' : 'none';\n",
              "\n",
              "      async function convertToInteractive(key) {\n",
              "        const element = document.querySelector('#df-cc48944a-4242-4455-a657-658d4bed09fb');\n",
              "        const dataTable =\n",
              "          await google.colab.kernel.invokeFunction('convertToInteractive',\n",
              "                                                    [key], {});\n",
              "        if (!dataTable) return;\n",
              "\n",
              "        const docLinkHtml = 'Like what you see? Visit the ' +\n",
              "          '<a target=\"_blank\" href=https://colab.research.google.com/notebooks/data_table.ipynb>data table notebook</a>'\n",
              "          + ' to learn more about interactive tables.';\n",
              "        element.innerHTML = '';\n",
              "        dataTable['output_type'] = 'display_data';\n",
              "        await google.colab.output.renderOutput(dataTable, element);\n",
              "        const docLink = document.createElement('div');\n",
              "        docLink.innerHTML = docLinkHtml;\n",
              "        element.appendChild(docLink);\n",
              "      }\n",
              "    </script>\n",
              "  </div>\n",
              "\n",
              "\n",
              "  <div id=\"id_0098a360-bcc8-4e98-8a1f-b41f4056005e\">\n",
              "    <style>\n",
              "      .colab-df-generate {\n",
              "        background-color: #E8F0FE;\n",
              "        border: none;\n",
              "        border-radius: 50%;\n",
              "        cursor: pointer;\n",
              "        display: none;\n",
              "        fill: #1967D2;\n",
              "        height: 32px;\n",
              "        padding: 0 0 0 0;\n",
              "        width: 32px;\n",
              "      }\n",
              "\n",
              "      .colab-df-generate:hover {\n",
              "        background-color: #E2EBFA;\n",
              "        box-shadow: 0px 1px 2px rgba(60, 64, 67, 0.3), 0px 1px 3px 1px rgba(60, 64, 67, 0.15);\n",
              "        fill: #174EA6;\n",
              "      }\n",
              "\n",
              "      [theme=dark] .colab-df-generate {\n",
              "        background-color: #3B4455;\n",
              "        fill: #D2E3FC;\n",
              "      }\n",
              "\n",
              "      [theme=dark] .colab-df-generate:hover {\n",
              "        background-color: #434B5C;\n",
              "        box-shadow: 0px 1px 3px 1px rgba(0, 0, 0, 0.15);\n",
              "        filter: drop-shadow(0px 1px 2px rgba(0, 0, 0, 0.3));\n",
              "        fill: #FFFFFF;\n",
              "      }\n",
              "    </style>\n",
              "    <button class=\"colab-df-generate\" onclick=\"generateWithVariable('search_results')\"\n",
              "            title=\"Generate code using this dataframe.\"\n",
              "            style=\"display:none;\">\n",
              "\n",
              "  <svg xmlns=\"http://www.w3.org/2000/svg\" height=\"24px\"viewBox=\"0 0 24 24\"\n",
              "       width=\"24px\">\n",
              "    <path d=\"M7,19H8.4L18.45,9,17,7.55,7,17.6ZM5,21V16.75L18.45,3.32a2,2,0,0,1,2.83,0l1.4,1.43a1.91,1.91,0,0,1,.58,1.4,1.91,1.91,0,0,1-.58,1.4L9.25,21ZM18.45,9,17,7.55Zm-12,3A5.31,5.31,0,0,0,4.9,8.1,5.31,5.31,0,0,0,1,6.5,5.31,5.31,0,0,0,4.9,4.9,5.31,5.31,0,0,0,6.5,1,5.31,5.31,0,0,0,8.1,4.9,5.31,5.31,0,0,0,12,6.5,5.46,5.46,0,0,0,6.5,12Z\"/>\n",
              "  </svg>\n",
              "    </button>\n",
              "    <script>\n",
              "      (() => {\n",
              "      const buttonEl =\n",
              "        document.querySelector('#id_0098a360-bcc8-4e98-8a1f-b41f4056005e button.colab-df-generate');\n",
              "      buttonEl.style.display =\n",
              "        google.colab.kernel.accessAllowed ? 'block' : 'none';\n",
              "\n",
              "      buttonEl.onclick = () => {\n",
              "        google.colab.notebook.generateWithVariable('search_results');\n",
              "      }\n",
              "      })();\n",
              "    </script>\n",
              "  </div>\n",
              "\n",
              "    </div>\n",
              "  </div>\n"
            ],
            "application/vnd.google.colaboratory.intrinsic+json": {
              "type": "dataframe",
              "variable_name": "search_results",
              "summary": "{\n  \"name\": \"search_results\",\n  \"rows\": 0,\n  \"fields\": [\n    {\n      \"column\": \"Date\",\n      \"properties\": {\n        \"dtype\": \"date\",\n        \"min\": \"NaT\",\n        \"max\": \"NaT\",\n        \"num_unique_values\": 0,\n        \"samples\": [],\n        \"semantic_type\": \"\",\n        \"description\": \"\"\n      }\n    },\n    {\n      \"column\": \"T2M\",\n      \"properties\": {\n        \"dtype\": \"number\",\n        \"std\": null,\n        \"min\": null,\n        \"max\": null,\n        \"num_unique_values\": 0,\n        \"samples\": [],\n        \"semantic_type\": \"\",\n        \"description\": \"\"\n      }\n    },\n    {\n      \"column\": \"WS2M\",\n      \"properties\": {\n        \"dtype\": \"number\",\n        \"std\": null,\n        \"min\": null,\n        \"max\": null,\n        \"num_unique_values\": 0,\n        \"samples\": [],\n        \"semantic_type\": \"\",\n        \"description\": \"\"\n      }\n    },\n    {\n      \"column\": \"T2M_MAX\",\n      \"properties\": {\n        \"dtype\": \"number\",\n        \"std\": null,\n        \"min\": null,\n        \"max\": null,\n        \"num_unique_values\": 0,\n        \"samples\": [],\n        \"semantic_type\": \"\",\n        \"description\": \"\"\n      }\n    },\n    {\n      \"column\": \"T2M_MIN\",\n      \"properties\": {\n        \"dtype\": \"number\",\n        \"std\": null,\n        \"min\": null,\n        \"max\": null,\n        \"num_unique_values\": 0,\n        \"samples\": [],\n        \"semantic_type\": \"\",\n        \"description\": \"\"\n      }\n    },\n    {\n      \"column\": \"WS2M_MAX\",\n      \"properties\": {\n        \"dtype\": \"number\",\n        \"std\": null,\n        \"min\": null,\n        \"max\": null,\n        \"num_unique_values\": 0,\n        \"samples\": [],\n        \"semantic_type\": \"\",\n        \"description\": \"\"\n      }\n    },\n    {\n      \"column\": \"WS2M_MIN\",\n      \"properties\": {\n        \"dtype\": \"number\",\n        \"std\": null,\n        \"min\": null,\n        \"max\": null,\n        \"num_unique_values\": 0,\n        \"samples\": [],\n        \"semantic_type\": \"\",\n        \"description\": \"\"\n      }\n    },\n    {\n      \"column\": \"Dwn_Rad\",\n      \"properties\": {\n        \"dtype\": \"number\",\n        \"std\": null,\n        \"min\": null,\n        \"max\": null,\n        \"num_unique_values\": 0,\n        \"samples\": [],\n        \"semantic_type\": \"\",\n        \"description\": \"\"\n      }\n    },\n    {\n      \"column\": \"Erate\",\n      \"properties\": {\n        \"dtype\": \"number\",\n        \"std\": null,\n        \"min\": null,\n        \"max\": null,\n        \"num_unique_values\": 0,\n        \"samples\": [],\n        \"semantic_type\": \"\",\n        \"description\": \"\"\n      }\n    },\n    {\n      \"column\": \"Evol\",\n      \"properties\": {\n        \"dtype\": \"number\",\n        \"std\": null,\n        \"min\": null,\n        \"max\": null,\n        \"num_unique_values\": 0,\n        \"samples\": [],\n        \"semantic_type\": \"\",\n        \"description\": \"\"\n      }\n    }\n  ]\n}"
            }
          },
          "metadata": {},
          "execution_count": 41
        }
      ]
    },
    {
      "cell_type": "markdown",
      "source": [
        "The normalizationis done using robust scaling technique to reduce the effects of extreme values on the scaling method"
      ],
      "metadata": {
        "id": "52athjCBGKgz"
      }
    },
    {
      "cell_type": "code",
      "source": [
        "features =  to_norm[['T2M', 'WS2M', 'Dwn_Rad', 'Erate', 'Evol']]\n",
        "scaler = RobustScaler()\n",
        "normalized_data = scaler.fit_transform(features)\n",
        "scaled_df = pd.DataFrame(normalized_data, columns=features.columns)\n",
        "print(scaled_df)"
      ],
      "metadata": {
        "colab": {
          "base_uri": "https://localhost:8080/"
        },
        "id": "6rYG8VDSGFQq",
        "outputId": "a418db6b-8877-4310-d2d3-3a950910c113"
      },
      "execution_count": null,
      "outputs": [
        {
          "output_type": "stream",
          "name": "stdout",
          "text": [
            "       T2M      WS2M   Dwn_Rad     Erate      Evol\n",
            "0    0.128 -0.043243  0.112500  0.050016  0.167531\n",
            "1    0.232  1.427027  0.475000  0.412516 -0.037823\n",
            "2    0.928  1.210811  0.858333  0.160019  0.262734\n",
            "3    0.468 -0.302703  1.262500 -0.048801 -0.118404\n",
            "4    0.304  0.518919  0.025000 -0.151879 -0.056288\n",
            "..     ...       ...       ...       ...       ...\n",
            "403 -0.760 -0.410811 -1.133333 -1.276294 -1.093298\n",
            "404  0.044 -0.756757  0.120833 -0.496899 -0.467260\n",
            "405  0.008 -0.324324 -0.345833  0.107134  0.285040\n",
            "406 -0.132 -0.454054 -0.512500 -0.100996 -0.104934\n",
            "407  0.000 -0.194595 -0.458333 -0.242177 -0.080023\n",
            "\n",
            "[408 rows x 5 columns]\n"
          ]
        }
      ]
    },
    {
      "cell_type": "code",
      "source": [
        "scaled_df.insert(0, 'Date', value = df['Date'])"
      ],
      "metadata": {
        "id": "upfF3L_vnKpJ"
      },
      "execution_count": null,
      "outputs": []
    },
    {
      "cell_type": "code",
      "source": [
        "scaled_df"
      ],
      "metadata": {
        "colab": {
          "base_uri": "https://localhost:8080/",
          "height": 424
        },
        "id": "gUVRklHDoSF9",
        "outputId": "d668ce25-d413-492e-a3db-8025ce94c18e"
      },
      "execution_count": null,
      "outputs": [
        {
          "output_type": "execute_result",
          "data": {
            "text/plain": [
              "          Date    T2M      WS2M   Dwn_Rad     Erate      Evol\n",
              "0   1985-01-01  0.128 -0.043243  0.112500  0.050016  0.167531\n",
              "1   1985-02-01  0.232  1.427027  0.475000  0.412516 -0.037823\n",
              "2   1985-03-01  0.928  1.210811  0.858333  0.160019  0.262734\n",
              "3   1985-04-01  0.468 -0.302703  1.262500 -0.048801 -0.118404\n",
              "4   1985-05-01  0.304  0.518919  0.025000 -0.151879 -0.056288\n",
              "..         ...    ...       ...       ...       ...       ...\n",
              "403 2018-08-01 -0.760 -0.410811 -1.133333 -1.276294 -1.093298\n",
              "404 2018-09-01  0.044 -0.756757  0.120833 -0.496899 -0.467260\n",
              "405 2018-10-01  0.008 -0.324324 -0.345833  0.107134  0.285040\n",
              "406 2018-11-01 -0.132 -0.454054 -0.512500 -0.100996 -0.104934\n",
              "407 2018-12-01  0.000 -0.194595 -0.458333 -0.242177 -0.080023\n",
              "\n",
              "[408 rows x 6 columns]"
            ],
            "text/html": [
              "\n",
              "  <div id=\"df-168609cd-592c-4d73-84f0-0247fa2be5e3\" class=\"colab-df-container\">\n",
              "    <div>\n",
              "<style scoped>\n",
              "    .dataframe tbody tr th:only-of-type {\n",
              "        vertical-align: middle;\n",
              "    }\n",
              "\n",
              "    .dataframe tbody tr th {\n",
              "        vertical-align: top;\n",
              "    }\n",
              "\n",
              "    .dataframe thead th {\n",
              "        text-align: right;\n",
              "    }\n",
              "</style>\n",
              "<table border=\"1\" class=\"dataframe\">\n",
              "  <thead>\n",
              "    <tr style=\"text-align: right;\">\n",
              "      <th></th>\n",
              "      <th>Date</th>\n",
              "      <th>T2M</th>\n",
              "      <th>WS2M</th>\n",
              "      <th>Dwn_Rad</th>\n",
              "      <th>Erate</th>\n",
              "      <th>Evol</th>\n",
              "    </tr>\n",
              "  </thead>\n",
              "  <tbody>\n",
              "    <tr>\n",
              "      <th>0</th>\n",
              "      <td>1985-01-01</td>\n",
              "      <td>0.128</td>\n",
              "      <td>-0.043243</td>\n",
              "      <td>0.112500</td>\n",
              "      <td>0.050016</td>\n",
              "      <td>0.167531</td>\n",
              "    </tr>\n",
              "    <tr>\n",
              "      <th>1</th>\n",
              "      <td>1985-02-01</td>\n",
              "      <td>0.232</td>\n",
              "      <td>1.427027</td>\n",
              "      <td>0.475000</td>\n",
              "      <td>0.412516</td>\n",
              "      <td>-0.037823</td>\n",
              "    </tr>\n",
              "    <tr>\n",
              "      <th>2</th>\n",
              "      <td>1985-03-01</td>\n",
              "      <td>0.928</td>\n",
              "      <td>1.210811</td>\n",
              "      <td>0.858333</td>\n",
              "      <td>0.160019</td>\n",
              "      <td>0.262734</td>\n",
              "    </tr>\n",
              "    <tr>\n",
              "      <th>3</th>\n",
              "      <td>1985-04-01</td>\n",
              "      <td>0.468</td>\n",
              "      <td>-0.302703</td>\n",
              "      <td>1.262500</td>\n",
              "      <td>-0.048801</td>\n",
              "      <td>-0.118404</td>\n",
              "    </tr>\n",
              "    <tr>\n",
              "      <th>4</th>\n",
              "      <td>1985-05-01</td>\n",
              "      <td>0.304</td>\n",
              "      <td>0.518919</td>\n",
              "      <td>0.025000</td>\n",
              "      <td>-0.151879</td>\n",
              "      <td>-0.056288</td>\n",
              "    </tr>\n",
              "    <tr>\n",
              "      <th>...</th>\n",
              "      <td>...</td>\n",
              "      <td>...</td>\n",
              "      <td>...</td>\n",
              "      <td>...</td>\n",
              "      <td>...</td>\n",
              "      <td>...</td>\n",
              "    </tr>\n",
              "    <tr>\n",
              "      <th>403</th>\n",
              "      <td>2018-08-01</td>\n",
              "      <td>-0.760</td>\n",
              "      <td>-0.410811</td>\n",
              "      <td>-1.133333</td>\n",
              "      <td>-1.276294</td>\n",
              "      <td>-1.093298</td>\n",
              "    </tr>\n",
              "    <tr>\n",
              "      <th>404</th>\n",
              "      <td>2018-09-01</td>\n",
              "      <td>0.044</td>\n",
              "      <td>-0.756757</td>\n",
              "      <td>0.120833</td>\n",
              "      <td>-0.496899</td>\n",
              "      <td>-0.467260</td>\n",
              "    </tr>\n",
              "    <tr>\n",
              "      <th>405</th>\n",
              "      <td>2018-10-01</td>\n",
              "      <td>0.008</td>\n",
              "      <td>-0.324324</td>\n",
              "      <td>-0.345833</td>\n",
              "      <td>0.107134</td>\n",
              "      <td>0.285040</td>\n",
              "    </tr>\n",
              "    <tr>\n",
              "      <th>406</th>\n",
              "      <td>2018-11-01</td>\n",
              "      <td>-0.132</td>\n",
              "      <td>-0.454054</td>\n",
              "      <td>-0.512500</td>\n",
              "      <td>-0.100996</td>\n",
              "      <td>-0.104934</td>\n",
              "    </tr>\n",
              "    <tr>\n",
              "      <th>407</th>\n",
              "      <td>2018-12-01</td>\n",
              "      <td>0.000</td>\n",
              "      <td>-0.194595</td>\n",
              "      <td>-0.458333</td>\n",
              "      <td>-0.242177</td>\n",
              "      <td>-0.080023</td>\n",
              "    </tr>\n",
              "  </tbody>\n",
              "</table>\n",
              "<p>408 rows × 6 columns</p>\n",
              "</div>\n",
              "    <div class=\"colab-df-buttons\">\n",
              "\n",
              "  <div class=\"colab-df-container\">\n",
              "    <button class=\"colab-df-convert\" onclick=\"convertToInteractive('df-168609cd-592c-4d73-84f0-0247fa2be5e3')\"\n",
              "            title=\"Convert this dataframe to an interactive table.\"\n",
              "            style=\"display:none;\">\n",
              "\n",
              "  <svg xmlns=\"http://www.w3.org/2000/svg\" height=\"24px\" viewBox=\"0 -960 960 960\">\n",
              "    <path d=\"M120-120v-720h720v720H120Zm60-500h600v-160H180v160Zm220 220h160v-160H400v160Zm0 220h160v-160H400v160ZM180-400h160v-160H180v160Zm440 0h160v-160H620v160ZM180-180h160v-160H180v160Zm440 0h160v-160H620v160Z\"/>\n",
              "  </svg>\n",
              "    </button>\n",
              "\n",
              "  <style>\n",
              "    .colab-df-container {\n",
              "      display:flex;\n",
              "      gap: 12px;\n",
              "    }\n",
              "\n",
              "    .colab-df-convert {\n",
              "      background-color: #E8F0FE;\n",
              "      border: none;\n",
              "      border-radius: 50%;\n",
              "      cursor: pointer;\n",
              "      display: none;\n",
              "      fill: #1967D2;\n",
              "      height: 32px;\n",
              "      padding: 0 0 0 0;\n",
              "      width: 32px;\n",
              "    }\n",
              "\n",
              "    .colab-df-convert:hover {\n",
              "      background-color: #E2EBFA;\n",
              "      box-shadow: 0px 1px 2px rgba(60, 64, 67, 0.3), 0px 1px 3px 1px rgba(60, 64, 67, 0.15);\n",
              "      fill: #174EA6;\n",
              "    }\n",
              "\n",
              "    .colab-df-buttons div {\n",
              "      margin-bottom: 4px;\n",
              "    }\n",
              "\n",
              "    [theme=dark] .colab-df-convert {\n",
              "      background-color: #3B4455;\n",
              "      fill: #D2E3FC;\n",
              "    }\n",
              "\n",
              "    [theme=dark] .colab-df-convert:hover {\n",
              "      background-color: #434B5C;\n",
              "      box-shadow: 0px 1px 3px 1px rgba(0, 0, 0, 0.15);\n",
              "      filter: drop-shadow(0px 1px 2px rgba(0, 0, 0, 0.3));\n",
              "      fill: #FFFFFF;\n",
              "    }\n",
              "  </style>\n",
              "\n",
              "    <script>\n",
              "      const buttonEl =\n",
              "        document.querySelector('#df-168609cd-592c-4d73-84f0-0247fa2be5e3 button.colab-df-convert');\n",
              "      buttonEl.style.display =\n",
              "        google.colab.kernel.accessAllowed ? 'block' : 'none';\n",
              "\n",
              "      async function convertToInteractive(key) {\n",
              "        const element = document.querySelector('#df-168609cd-592c-4d73-84f0-0247fa2be5e3');\n",
              "        const dataTable =\n",
              "          await google.colab.kernel.invokeFunction('convertToInteractive',\n",
              "                                                    [key], {});\n",
              "        if (!dataTable) return;\n",
              "\n",
              "        const docLinkHtml = 'Like what you see? Visit the ' +\n",
              "          '<a target=\"_blank\" href=https://colab.research.google.com/notebooks/data_table.ipynb>data table notebook</a>'\n",
              "          + ' to learn more about interactive tables.';\n",
              "        element.innerHTML = '';\n",
              "        dataTable['output_type'] = 'display_data';\n",
              "        await google.colab.output.renderOutput(dataTable, element);\n",
              "        const docLink = document.createElement('div');\n",
              "        docLink.innerHTML = docLinkHtml;\n",
              "        element.appendChild(docLink);\n",
              "      }\n",
              "    </script>\n",
              "  </div>\n",
              "\n",
              "\n",
              "<div id=\"df-0c7b381b-c283-4377-b65c-0360e1820a19\">\n",
              "  <button class=\"colab-df-quickchart\" onclick=\"quickchart('df-0c7b381b-c283-4377-b65c-0360e1820a19')\"\n",
              "            title=\"Suggest charts\"\n",
              "            style=\"display:none;\">\n",
              "\n",
              "<svg xmlns=\"http://www.w3.org/2000/svg\" height=\"24px\"viewBox=\"0 0 24 24\"\n",
              "     width=\"24px\">\n",
              "    <g>\n",
              "        <path d=\"M19 3H5c-1.1 0-2 .9-2 2v14c0 1.1.9 2 2 2h14c1.1 0 2-.9 2-2V5c0-1.1-.9-2-2-2zM9 17H7v-7h2v7zm4 0h-2V7h2v10zm4 0h-2v-4h2v4z\"/>\n",
              "    </g>\n",
              "</svg>\n",
              "  </button>\n",
              "\n",
              "<style>\n",
              "  .colab-df-quickchart {\n",
              "      --bg-color: #E8F0FE;\n",
              "      --fill-color: #1967D2;\n",
              "      --hover-bg-color: #E2EBFA;\n",
              "      --hover-fill-color: #174EA6;\n",
              "      --disabled-fill-color: #AAA;\n",
              "      --disabled-bg-color: #DDD;\n",
              "  }\n",
              "\n",
              "  [theme=dark] .colab-df-quickchart {\n",
              "      --bg-color: #3B4455;\n",
              "      --fill-color: #D2E3FC;\n",
              "      --hover-bg-color: #434B5C;\n",
              "      --hover-fill-color: #FFFFFF;\n",
              "      --disabled-bg-color: #3B4455;\n",
              "      --disabled-fill-color: #666;\n",
              "  }\n",
              "\n",
              "  .colab-df-quickchart {\n",
              "    background-color: var(--bg-color);\n",
              "    border: none;\n",
              "    border-radius: 50%;\n",
              "    cursor: pointer;\n",
              "    display: none;\n",
              "    fill: var(--fill-color);\n",
              "    height: 32px;\n",
              "    padding: 0;\n",
              "    width: 32px;\n",
              "  }\n",
              "\n",
              "  .colab-df-quickchart:hover {\n",
              "    background-color: var(--hover-bg-color);\n",
              "    box-shadow: 0 1px 2px rgba(60, 64, 67, 0.3), 0 1px 3px 1px rgba(60, 64, 67, 0.15);\n",
              "    fill: var(--button-hover-fill-color);\n",
              "  }\n",
              "\n",
              "  .colab-df-quickchart-complete:disabled,\n",
              "  .colab-df-quickchart-complete:disabled:hover {\n",
              "    background-color: var(--disabled-bg-color);\n",
              "    fill: var(--disabled-fill-color);\n",
              "    box-shadow: none;\n",
              "  }\n",
              "\n",
              "  .colab-df-spinner {\n",
              "    border: 2px solid var(--fill-color);\n",
              "    border-color: transparent;\n",
              "    border-bottom-color: var(--fill-color);\n",
              "    animation:\n",
              "      spin 1s steps(1) infinite;\n",
              "  }\n",
              "\n",
              "  @keyframes spin {\n",
              "    0% {\n",
              "      border-color: transparent;\n",
              "      border-bottom-color: var(--fill-color);\n",
              "      border-left-color: var(--fill-color);\n",
              "    }\n",
              "    20% {\n",
              "      border-color: transparent;\n",
              "      border-left-color: var(--fill-color);\n",
              "      border-top-color: var(--fill-color);\n",
              "    }\n",
              "    30% {\n",
              "      border-color: transparent;\n",
              "      border-left-color: var(--fill-color);\n",
              "      border-top-color: var(--fill-color);\n",
              "      border-right-color: var(--fill-color);\n",
              "    }\n",
              "    40% {\n",
              "      border-color: transparent;\n",
              "      border-right-color: var(--fill-color);\n",
              "      border-top-color: var(--fill-color);\n",
              "    }\n",
              "    60% {\n",
              "      border-color: transparent;\n",
              "      border-right-color: var(--fill-color);\n",
              "    }\n",
              "    80% {\n",
              "      border-color: transparent;\n",
              "      border-right-color: var(--fill-color);\n",
              "      border-bottom-color: var(--fill-color);\n",
              "    }\n",
              "    90% {\n",
              "      border-color: transparent;\n",
              "      border-bottom-color: var(--fill-color);\n",
              "    }\n",
              "  }\n",
              "</style>\n",
              "\n",
              "  <script>\n",
              "    async function quickchart(key) {\n",
              "      const quickchartButtonEl =\n",
              "        document.querySelector('#' + key + ' button');\n",
              "      quickchartButtonEl.disabled = true;  // To prevent multiple clicks.\n",
              "      quickchartButtonEl.classList.add('colab-df-spinner');\n",
              "      try {\n",
              "        const charts = await google.colab.kernel.invokeFunction(\n",
              "            'suggestCharts', [key], {});\n",
              "      } catch (error) {\n",
              "        console.error('Error during call to suggestCharts:', error);\n",
              "      }\n",
              "      quickchartButtonEl.classList.remove('colab-df-spinner');\n",
              "      quickchartButtonEl.classList.add('colab-df-quickchart-complete');\n",
              "    }\n",
              "    (() => {\n",
              "      let quickchartButtonEl =\n",
              "        document.querySelector('#df-0c7b381b-c283-4377-b65c-0360e1820a19 button');\n",
              "      quickchartButtonEl.style.display =\n",
              "        google.colab.kernel.accessAllowed ? 'block' : 'none';\n",
              "    })();\n",
              "  </script>\n",
              "</div>\n",
              "\n",
              "  <div id=\"id_e7fbc589-bab5-4f9d-900e-7025e8436ab4\">\n",
              "    <style>\n",
              "      .colab-df-generate {\n",
              "        background-color: #E8F0FE;\n",
              "        border: none;\n",
              "        border-radius: 50%;\n",
              "        cursor: pointer;\n",
              "        display: none;\n",
              "        fill: #1967D2;\n",
              "        height: 32px;\n",
              "        padding: 0 0 0 0;\n",
              "        width: 32px;\n",
              "      }\n",
              "\n",
              "      .colab-df-generate:hover {\n",
              "        background-color: #E2EBFA;\n",
              "        box-shadow: 0px 1px 2px rgba(60, 64, 67, 0.3), 0px 1px 3px 1px rgba(60, 64, 67, 0.15);\n",
              "        fill: #174EA6;\n",
              "      }\n",
              "\n",
              "      [theme=dark] .colab-df-generate {\n",
              "        background-color: #3B4455;\n",
              "        fill: #D2E3FC;\n",
              "      }\n",
              "\n",
              "      [theme=dark] .colab-df-generate:hover {\n",
              "        background-color: #434B5C;\n",
              "        box-shadow: 0px 1px 3px 1px rgba(0, 0, 0, 0.15);\n",
              "        filter: drop-shadow(0px 1px 2px rgba(0, 0, 0, 0.3));\n",
              "        fill: #FFFFFF;\n",
              "      }\n",
              "    </style>\n",
              "    <button class=\"colab-df-generate\" onclick=\"generateWithVariable('scaled_df')\"\n",
              "            title=\"Generate code using this dataframe.\"\n",
              "            style=\"display:none;\">\n",
              "\n",
              "  <svg xmlns=\"http://www.w3.org/2000/svg\" height=\"24px\"viewBox=\"0 0 24 24\"\n",
              "       width=\"24px\">\n",
              "    <path d=\"M7,19H8.4L18.45,9,17,7.55,7,17.6ZM5,21V16.75L18.45,3.32a2,2,0,0,1,2.83,0l1.4,1.43a1.91,1.91,0,0,1,.58,1.4,1.91,1.91,0,0,1-.58,1.4L9.25,21ZM18.45,9,17,7.55Zm-12,3A5.31,5.31,0,0,0,4.9,8.1,5.31,5.31,0,0,0,1,6.5,5.31,5.31,0,0,0,4.9,4.9,5.31,5.31,0,0,0,6.5,1,5.31,5.31,0,0,0,8.1,4.9,5.31,5.31,0,0,0,12,6.5,5.46,5.46,0,0,0,6.5,12Z\"/>\n",
              "  </svg>\n",
              "    </button>\n",
              "    <script>\n",
              "      (() => {\n",
              "      const buttonEl =\n",
              "        document.querySelector('#id_e7fbc589-bab5-4f9d-900e-7025e8436ab4 button.colab-df-generate');\n",
              "      buttonEl.style.display =\n",
              "        google.colab.kernel.accessAllowed ? 'block' : 'none';\n",
              "\n",
              "      buttonEl.onclick = () => {\n",
              "        google.colab.notebook.generateWithVariable('scaled_df');\n",
              "      }\n",
              "      })();\n",
              "    </script>\n",
              "  </div>\n",
              "\n",
              "    </div>\n",
              "  </div>\n"
            ],
            "application/vnd.google.colaboratory.intrinsic+json": {
              "type": "dataframe",
              "variable_name": "scaled_df",
              "summary": "{\n  \"name\": \"scaled_df\",\n  \"rows\": 408,\n  \"fields\": [\n    {\n      \"column\": \"Date\",\n      \"properties\": {\n        \"dtype\": \"date\",\n        \"min\": \"1985-01-01 00:00:00\",\n        \"max\": \"2018-12-01 00:00:00\",\n        \"num_unique_values\": 408,\n        \"samples\": [\n          \"1990-11-01 00:00:00\",\n          \"2003-03-01 00:00:00\",\n          \"2006-07-01 00:00:00\"\n        ],\n        \"semantic_type\": \"\",\n        \"description\": \"\"\n      }\n    },\n    {\n      \"column\": \"T2M\",\n      \"properties\": {\n        \"dtype\": \"number\",\n        \"std\": 0.6846288280318609,\n        \"min\": -1.2879999999999996,\n        \"max\": 2.056,\n        \"num_unique_values\": 281,\n        \"samples\": [\n          -0.2680000000000007,\n          -0.24000000000000057,\n          1.4120000000000004\n        ],\n        \"semantic_type\": \"\",\n        \"description\": \"\"\n      }\n    },\n    {\n      \"column\": \"WS2M\",\n      \"properties\": {\n        \"dtype\": \"number\",\n        \"std\": 0.6954166855527076,\n        \"min\": -1.945945945945946,\n        \"max\": 2.8324324324324333,\n        \"num_unique_values\": 122,\n        \"samples\": [\n          -0.5189189189189185,\n          -0.6918918918918917,\n          1.4054054054054055\n        ],\n        \"semantic_type\": \"\",\n        \"description\": \"\"\n      }\n    },\n    {\n      \"column\": \"Dwn_Rad\",\n      \"properties\": {\n        \"dtype\": \"number\",\n        \"std\": 0.8118823769276696,\n        \"min\": -2.1833333333333322,\n        \"max\": 2.179166666666665,\n        \"num_unique_values\": 302,\n        \"samples\": [\n          0.5874999999999996,\n          -1.1833333333333322,\n          -0.42916666666666675\n        ],\n        \"semantic_type\": \"\",\n        \"description\": \"\"\n      }\n    },\n    {\n      \"column\": \"Erate\",\n      \"properties\": {\n        \"dtype\": \"number\",\n        \"std\": 0.7097804474251723,\n        \"min\": -1.8156537420478445,\n        \"max\": 1.5909913253395513,\n        \"num_unique_values\": 408,\n        \"samples\": [\n          0.5382617185760796,\n          0.3508656132828963,\n          -1.287918182029702\n        ],\n        \"semantic_type\": \"\",\n        \"description\": \"\"\n      }\n    },\n    {\n      \"column\": \"Evol\",\n      \"properties\": {\n        \"dtype\": \"number\",\n        \"std\": 0.6747072759725979,\n        \"min\": -1.644277434787698,\n        \"max\": 1.3929545802431715,\n        \"num_unique_values\": 408,\n        \"samples\": [\n          0.45680275886079963,\n          0.41394317202961783,\n          -1.1857999105591255\n        ],\n        \"semantic_type\": \"\",\n        \"description\": \"\"\n      }\n    }\n  ]\n}"
            }
          },
          "metadata": {},
          "execution_count": 44
        }
      ]
    },
    {
      "cell_type": "code",
      "source": [
        "scaled_df.set_index('Date', inplace=True)"
      ],
      "metadata": {
        "id": "7ouTIq6-oci5"
      },
      "execution_count": null,
      "outputs": []
    },
    {
      "cell_type": "code",
      "source": [
        "scaled_df"
      ],
      "metadata": {
        "colab": {
          "base_uri": "https://localhost:8080/",
          "height": 455
        },
        "id": "pHklifIcoj2q",
        "outputId": "f5514001-0060-4eed-bd71-7f7d57aa7349"
      },
      "execution_count": null,
      "outputs": [
        {
          "output_type": "execute_result",
          "data": {
            "text/plain": [
              "              T2M      WS2M   Dwn_Rad     Erate      Evol\n",
              "Date                                                     \n",
              "1985-01-01  0.128 -0.043243  0.112500  0.050016  0.167531\n",
              "1985-02-01  0.232  1.427027  0.475000  0.412516 -0.037823\n",
              "1985-03-01  0.928  1.210811  0.858333  0.160019  0.262734\n",
              "1985-04-01  0.468 -0.302703  1.262500 -0.048801 -0.118404\n",
              "1985-05-01  0.304  0.518919  0.025000 -0.151879 -0.056288\n",
              "...           ...       ...       ...       ...       ...\n",
              "2018-08-01 -0.760 -0.410811 -1.133333 -1.276294 -1.093298\n",
              "2018-09-01  0.044 -0.756757  0.120833 -0.496899 -0.467260\n",
              "2018-10-01  0.008 -0.324324 -0.345833  0.107134  0.285040\n",
              "2018-11-01 -0.132 -0.454054 -0.512500 -0.100996 -0.104934\n",
              "2018-12-01  0.000 -0.194595 -0.458333 -0.242177 -0.080023\n",
              "\n",
              "[408 rows x 5 columns]"
            ],
            "text/html": [
              "\n",
              "  <div id=\"df-02147361-5b5d-492f-976c-54aec3db913d\" class=\"colab-df-container\">\n",
              "    <div>\n",
              "<style scoped>\n",
              "    .dataframe tbody tr th:only-of-type {\n",
              "        vertical-align: middle;\n",
              "    }\n",
              "\n",
              "    .dataframe tbody tr th {\n",
              "        vertical-align: top;\n",
              "    }\n",
              "\n",
              "    .dataframe thead th {\n",
              "        text-align: right;\n",
              "    }\n",
              "</style>\n",
              "<table border=\"1\" class=\"dataframe\">\n",
              "  <thead>\n",
              "    <tr style=\"text-align: right;\">\n",
              "      <th></th>\n",
              "      <th>T2M</th>\n",
              "      <th>WS2M</th>\n",
              "      <th>Dwn_Rad</th>\n",
              "      <th>Erate</th>\n",
              "      <th>Evol</th>\n",
              "    </tr>\n",
              "    <tr>\n",
              "      <th>Date</th>\n",
              "      <th></th>\n",
              "      <th></th>\n",
              "      <th></th>\n",
              "      <th></th>\n",
              "      <th></th>\n",
              "    </tr>\n",
              "  </thead>\n",
              "  <tbody>\n",
              "    <tr>\n",
              "      <th>1985-01-01</th>\n",
              "      <td>0.128</td>\n",
              "      <td>-0.043243</td>\n",
              "      <td>0.112500</td>\n",
              "      <td>0.050016</td>\n",
              "      <td>0.167531</td>\n",
              "    </tr>\n",
              "    <tr>\n",
              "      <th>1985-02-01</th>\n",
              "      <td>0.232</td>\n",
              "      <td>1.427027</td>\n",
              "      <td>0.475000</td>\n",
              "      <td>0.412516</td>\n",
              "      <td>-0.037823</td>\n",
              "    </tr>\n",
              "    <tr>\n",
              "      <th>1985-03-01</th>\n",
              "      <td>0.928</td>\n",
              "      <td>1.210811</td>\n",
              "      <td>0.858333</td>\n",
              "      <td>0.160019</td>\n",
              "      <td>0.262734</td>\n",
              "    </tr>\n",
              "    <tr>\n",
              "      <th>1985-04-01</th>\n",
              "      <td>0.468</td>\n",
              "      <td>-0.302703</td>\n",
              "      <td>1.262500</td>\n",
              "      <td>-0.048801</td>\n",
              "      <td>-0.118404</td>\n",
              "    </tr>\n",
              "    <tr>\n",
              "      <th>1985-05-01</th>\n",
              "      <td>0.304</td>\n",
              "      <td>0.518919</td>\n",
              "      <td>0.025000</td>\n",
              "      <td>-0.151879</td>\n",
              "      <td>-0.056288</td>\n",
              "    </tr>\n",
              "    <tr>\n",
              "      <th>...</th>\n",
              "      <td>...</td>\n",
              "      <td>...</td>\n",
              "      <td>...</td>\n",
              "      <td>...</td>\n",
              "      <td>...</td>\n",
              "    </tr>\n",
              "    <tr>\n",
              "      <th>2018-08-01</th>\n",
              "      <td>-0.760</td>\n",
              "      <td>-0.410811</td>\n",
              "      <td>-1.133333</td>\n",
              "      <td>-1.276294</td>\n",
              "      <td>-1.093298</td>\n",
              "    </tr>\n",
              "    <tr>\n",
              "      <th>2018-09-01</th>\n",
              "      <td>0.044</td>\n",
              "      <td>-0.756757</td>\n",
              "      <td>0.120833</td>\n",
              "      <td>-0.496899</td>\n",
              "      <td>-0.467260</td>\n",
              "    </tr>\n",
              "    <tr>\n",
              "      <th>2018-10-01</th>\n",
              "      <td>0.008</td>\n",
              "      <td>-0.324324</td>\n",
              "      <td>-0.345833</td>\n",
              "      <td>0.107134</td>\n",
              "      <td>0.285040</td>\n",
              "    </tr>\n",
              "    <tr>\n",
              "      <th>2018-11-01</th>\n",
              "      <td>-0.132</td>\n",
              "      <td>-0.454054</td>\n",
              "      <td>-0.512500</td>\n",
              "      <td>-0.100996</td>\n",
              "      <td>-0.104934</td>\n",
              "    </tr>\n",
              "    <tr>\n",
              "      <th>2018-12-01</th>\n",
              "      <td>0.000</td>\n",
              "      <td>-0.194595</td>\n",
              "      <td>-0.458333</td>\n",
              "      <td>-0.242177</td>\n",
              "      <td>-0.080023</td>\n",
              "    </tr>\n",
              "  </tbody>\n",
              "</table>\n",
              "<p>408 rows × 5 columns</p>\n",
              "</div>\n",
              "    <div class=\"colab-df-buttons\">\n",
              "\n",
              "  <div class=\"colab-df-container\">\n",
              "    <button class=\"colab-df-convert\" onclick=\"convertToInteractive('df-02147361-5b5d-492f-976c-54aec3db913d')\"\n",
              "            title=\"Convert this dataframe to an interactive table.\"\n",
              "            style=\"display:none;\">\n",
              "\n",
              "  <svg xmlns=\"http://www.w3.org/2000/svg\" height=\"24px\" viewBox=\"0 -960 960 960\">\n",
              "    <path d=\"M120-120v-720h720v720H120Zm60-500h600v-160H180v160Zm220 220h160v-160H400v160Zm0 220h160v-160H400v160ZM180-400h160v-160H180v160Zm440 0h160v-160H620v160ZM180-180h160v-160H180v160Zm440 0h160v-160H620v160Z\"/>\n",
              "  </svg>\n",
              "    </button>\n",
              "\n",
              "  <style>\n",
              "    .colab-df-container {\n",
              "      display:flex;\n",
              "      gap: 12px;\n",
              "    }\n",
              "\n",
              "    .colab-df-convert {\n",
              "      background-color: #E8F0FE;\n",
              "      border: none;\n",
              "      border-radius: 50%;\n",
              "      cursor: pointer;\n",
              "      display: none;\n",
              "      fill: #1967D2;\n",
              "      height: 32px;\n",
              "      padding: 0 0 0 0;\n",
              "      width: 32px;\n",
              "    }\n",
              "\n",
              "    .colab-df-convert:hover {\n",
              "      background-color: #E2EBFA;\n",
              "      box-shadow: 0px 1px 2px rgba(60, 64, 67, 0.3), 0px 1px 3px 1px rgba(60, 64, 67, 0.15);\n",
              "      fill: #174EA6;\n",
              "    }\n",
              "\n",
              "    .colab-df-buttons div {\n",
              "      margin-bottom: 4px;\n",
              "    }\n",
              "\n",
              "    [theme=dark] .colab-df-convert {\n",
              "      background-color: #3B4455;\n",
              "      fill: #D2E3FC;\n",
              "    }\n",
              "\n",
              "    [theme=dark] .colab-df-convert:hover {\n",
              "      background-color: #434B5C;\n",
              "      box-shadow: 0px 1px 3px 1px rgba(0, 0, 0, 0.15);\n",
              "      filter: drop-shadow(0px 1px 2px rgba(0, 0, 0, 0.3));\n",
              "      fill: #FFFFFF;\n",
              "    }\n",
              "  </style>\n",
              "\n",
              "    <script>\n",
              "      const buttonEl =\n",
              "        document.querySelector('#df-02147361-5b5d-492f-976c-54aec3db913d button.colab-df-convert');\n",
              "      buttonEl.style.display =\n",
              "        google.colab.kernel.accessAllowed ? 'block' : 'none';\n",
              "\n",
              "      async function convertToInteractive(key) {\n",
              "        const element = document.querySelector('#df-02147361-5b5d-492f-976c-54aec3db913d');\n",
              "        const dataTable =\n",
              "          await google.colab.kernel.invokeFunction('convertToInteractive',\n",
              "                                                    [key], {});\n",
              "        if (!dataTable) return;\n",
              "\n",
              "        const docLinkHtml = 'Like what you see? Visit the ' +\n",
              "          '<a target=\"_blank\" href=https://colab.research.google.com/notebooks/data_table.ipynb>data table notebook</a>'\n",
              "          + ' to learn more about interactive tables.';\n",
              "        element.innerHTML = '';\n",
              "        dataTable['output_type'] = 'display_data';\n",
              "        await google.colab.output.renderOutput(dataTable, element);\n",
              "        const docLink = document.createElement('div');\n",
              "        docLink.innerHTML = docLinkHtml;\n",
              "        element.appendChild(docLink);\n",
              "      }\n",
              "    </script>\n",
              "  </div>\n",
              "\n",
              "\n",
              "<div id=\"df-50aefab8-0c7a-4be7-b0d5-ade00e39d3e8\">\n",
              "  <button class=\"colab-df-quickchart\" onclick=\"quickchart('df-50aefab8-0c7a-4be7-b0d5-ade00e39d3e8')\"\n",
              "            title=\"Suggest charts\"\n",
              "            style=\"display:none;\">\n",
              "\n",
              "<svg xmlns=\"http://www.w3.org/2000/svg\" height=\"24px\"viewBox=\"0 0 24 24\"\n",
              "     width=\"24px\">\n",
              "    <g>\n",
              "        <path d=\"M19 3H5c-1.1 0-2 .9-2 2v14c0 1.1.9 2 2 2h14c1.1 0 2-.9 2-2V5c0-1.1-.9-2-2-2zM9 17H7v-7h2v7zm4 0h-2V7h2v10zm4 0h-2v-4h2v4z\"/>\n",
              "    </g>\n",
              "</svg>\n",
              "  </button>\n",
              "\n",
              "<style>\n",
              "  .colab-df-quickchart {\n",
              "      --bg-color: #E8F0FE;\n",
              "      --fill-color: #1967D2;\n",
              "      --hover-bg-color: #E2EBFA;\n",
              "      --hover-fill-color: #174EA6;\n",
              "      --disabled-fill-color: #AAA;\n",
              "      --disabled-bg-color: #DDD;\n",
              "  }\n",
              "\n",
              "  [theme=dark] .colab-df-quickchart {\n",
              "      --bg-color: #3B4455;\n",
              "      --fill-color: #D2E3FC;\n",
              "      --hover-bg-color: #434B5C;\n",
              "      --hover-fill-color: #FFFFFF;\n",
              "      --disabled-bg-color: #3B4455;\n",
              "      --disabled-fill-color: #666;\n",
              "  }\n",
              "\n",
              "  .colab-df-quickchart {\n",
              "    background-color: var(--bg-color);\n",
              "    border: none;\n",
              "    border-radius: 50%;\n",
              "    cursor: pointer;\n",
              "    display: none;\n",
              "    fill: var(--fill-color);\n",
              "    height: 32px;\n",
              "    padding: 0;\n",
              "    width: 32px;\n",
              "  }\n",
              "\n",
              "  .colab-df-quickchart:hover {\n",
              "    background-color: var(--hover-bg-color);\n",
              "    box-shadow: 0 1px 2px rgba(60, 64, 67, 0.3), 0 1px 3px 1px rgba(60, 64, 67, 0.15);\n",
              "    fill: var(--button-hover-fill-color);\n",
              "  }\n",
              "\n",
              "  .colab-df-quickchart-complete:disabled,\n",
              "  .colab-df-quickchart-complete:disabled:hover {\n",
              "    background-color: var(--disabled-bg-color);\n",
              "    fill: var(--disabled-fill-color);\n",
              "    box-shadow: none;\n",
              "  }\n",
              "\n",
              "  .colab-df-spinner {\n",
              "    border: 2px solid var(--fill-color);\n",
              "    border-color: transparent;\n",
              "    border-bottom-color: var(--fill-color);\n",
              "    animation:\n",
              "      spin 1s steps(1) infinite;\n",
              "  }\n",
              "\n",
              "  @keyframes spin {\n",
              "    0% {\n",
              "      border-color: transparent;\n",
              "      border-bottom-color: var(--fill-color);\n",
              "      border-left-color: var(--fill-color);\n",
              "    }\n",
              "    20% {\n",
              "      border-color: transparent;\n",
              "      border-left-color: var(--fill-color);\n",
              "      border-top-color: var(--fill-color);\n",
              "    }\n",
              "    30% {\n",
              "      border-color: transparent;\n",
              "      border-left-color: var(--fill-color);\n",
              "      border-top-color: var(--fill-color);\n",
              "      border-right-color: var(--fill-color);\n",
              "    }\n",
              "    40% {\n",
              "      border-color: transparent;\n",
              "      border-right-color: var(--fill-color);\n",
              "      border-top-color: var(--fill-color);\n",
              "    }\n",
              "    60% {\n",
              "      border-color: transparent;\n",
              "      border-right-color: var(--fill-color);\n",
              "    }\n",
              "    80% {\n",
              "      border-color: transparent;\n",
              "      border-right-color: var(--fill-color);\n",
              "      border-bottom-color: var(--fill-color);\n",
              "    }\n",
              "    90% {\n",
              "      border-color: transparent;\n",
              "      border-bottom-color: var(--fill-color);\n",
              "    }\n",
              "  }\n",
              "</style>\n",
              "\n",
              "  <script>\n",
              "    async function quickchart(key) {\n",
              "      const quickchartButtonEl =\n",
              "        document.querySelector('#' + key + ' button');\n",
              "      quickchartButtonEl.disabled = true;  // To prevent multiple clicks.\n",
              "      quickchartButtonEl.classList.add('colab-df-spinner');\n",
              "      try {\n",
              "        const charts = await google.colab.kernel.invokeFunction(\n",
              "            'suggestCharts', [key], {});\n",
              "      } catch (error) {\n",
              "        console.error('Error during call to suggestCharts:', error);\n",
              "      }\n",
              "      quickchartButtonEl.classList.remove('colab-df-spinner');\n",
              "      quickchartButtonEl.classList.add('colab-df-quickchart-complete');\n",
              "    }\n",
              "    (() => {\n",
              "      let quickchartButtonEl =\n",
              "        document.querySelector('#df-50aefab8-0c7a-4be7-b0d5-ade00e39d3e8 button');\n",
              "      quickchartButtonEl.style.display =\n",
              "        google.colab.kernel.accessAllowed ? 'block' : 'none';\n",
              "    })();\n",
              "  </script>\n",
              "</div>\n",
              "\n",
              "  <div id=\"id_e8ac7ee1-0f3c-441c-b0c1-2ea8257d9311\">\n",
              "    <style>\n",
              "      .colab-df-generate {\n",
              "        background-color: #E8F0FE;\n",
              "        border: none;\n",
              "        border-radius: 50%;\n",
              "        cursor: pointer;\n",
              "        display: none;\n",
              "        fill: #1967D2;\n",
              "        height: 32px;\n",
              "        padding: 0 0 0 0;\n",
              "        width: 32px;\n",
              "      }\n",
              "\n",
              "      .colab-df-generate:hover {\n",
              "        background-color: #E2EBFA;\n",
              "        box-shadow: 0px 1px 2px rgba(60, 64, 67, 0.3), 0px 1px 3px 1px rgba(60, 64, 67, 0.15);\n",
              "        fill: #174EA6;\n",
              "      }\n",
              "\n",
              "      [theme=dark] .colab-df-generate {\n",
              "        background-color: #3B4455;\n",
              "        fill: #D2E3FC;\n",
              "      }\n",
              "\n",
              "      [theme=dark] .colab-df-generate:hover {\n",
              "        background-color: #434B5C;\n",
              "        box-shadow: 0px 1px 3px 1px rgba(0, 0, 0, 0.15);\n",
              "        filter: drop-shadow(0px 1px 2px rgba(0, 0, 0, 0.3));\n",
              "        fill: #FFFFFF;\n",
              "      }\n",
              "    </style>\n",
              "    <button class=\"colab-df-generate\" onclick=\"generateWithVariable('scaled_df')\"\n",
              "            title=\"Generate code using this dataframe.\"\n",
              "            style=\"display:none;\">\n",
              "\n",
              "  <svg xmlns=\"http://www.w3.org/2000/svg\" height=\"24px\"viewBox=\"0 0 24 24\"\n",
              "       width=\"24px\">\n",
              "    <path d=\"M7,19H8.4L18.45,9,17,7.55,7,17.6ZM5,21V16.75L18.45,3.32a2,2,0,0,1,2.83,0l1.4,1.43a1.91,1.91,0,0,1,.58,1.4,1.91,1.91,0,0,1-.58,1.4L9.25,21ZM18.45,9,17,7.55Zm-12,3A5.31,5.31,0,0,0,4.9,8.1,5.31,5.31,0,0,0,1,6.5,5.31,5.31,0,0,0,4.9,4.9,5.31,5.31,0,0,0,6.5,1,5.31,5.31,0,0,0,8.1,4.9,5.31,5.31,0,0,0,12,6.5,5.46,5.46,0,0,0,6.5,12Z\"/>\n",
              "  </svg>\n",
              "    </button>\n",
              "    <script>\n",
              "      (() => {\n",
              "      const buttonEl =\n",
              "        document.querySelector('#id_e8ac7ee1-0f3c-441c-b0c1-2ea8257d9311 button.colab-df-generate');\n",
              "      buttonEl.style.display =\n",
              "        google.colab.kernel.accessAllowed ? 'block' : 'none';\n",
              "\n",
              "      buttonEl.onclick = () => {\n",
              "        google.colab.notebook.generateWithVariable('scaled_df');\n",
              "      }\n",
              "      })();\n",
              "    </script>\n",
              "  </div>\n",
              "\n",
              "    </div>\n",
              "  </div>\n"
            ],
            "application/vnd.google.colaboratory.intrinsic+json": {
              "type": "dataframe",
              "variable_name": "scaled_df",
              "summary": "{\n  \"name\": \"scaled_df\",\n  \"rows\": 408,\n  \"fields\": [\n    {\n      \"column\": \"Date\",\n      \"properties\": {\n        \"dtype\": \"date\",\n        \"min\": \"1985-01-01 00:00:00\",\n        \"max\": \"2018-12-01 00:00:00\",\n        \"num_unique_values\": 408,\n        \"samples\": [\n          \"1990-11-01 00:00:00\",\n          \"2003-03-01 00:00:00\",\n          \"2006-07-01 00:00:00\"\n        ],\n        \"semantic_type\": \"\",\n        \"description\": \"\"\n      }\n    },\n    {\n      \"column\": \"T2M\",\n      \"properties\": {\n        \"dtype\": \"number\",\n        \"std\": 0.6846288280318609,\n        \"min\": -1.2879999999999996,\n        \"max\": 2.056,\n        \"num_unique_values\": 281,\n        \"samples\": [\n          -0.2680000000000007,\n          -0.24000000000000057,\n          1.4120000000000004\n        ],\n        \"semantic_type\": \"\",\n        \"description\": \"\"\n      }\n    },\n    {\n      \"column\": \"WS2M\",\n      \"properties\": {\n        \"dtype\": \"number\",\n        \"std\": 0.6954166855527076,\n        \"min\": -1.945945945945946,\n        \"max\": 2.8324324324324333,\n        \"num_unique_values\": 122,\n        \"samples\": [\n          -0.5189189189189185,\n          -0.6918918918918917,\n          1.4054054054054055\n        ],\n        \"semantic_type\": \"\",\n        \"description\": \"\"\n      }\n    },\n    {\n      \"column\": \"Dwn_Rad\",\n      \"properties\": {\n        \"dtype\": \"number\",\n        \"std\": 0.8118823769276696,\n        \"min\": -2.1833333333333322,\n        \"max\": 2.179166666666665,\n        \"num_unique_values\": 302,\n        \"samples\": [\n          0.5874999999999996,\n          -1.1833333333333322,\n          -0.42916666666666675\n        ],\n        \"semantic_type\": \"\",\n        \"description\": \"\"\n      }\n    },\n    {\n      \"column\": \"Erate\",\n      \"properties\": {\n        \"dtype\": \"number\",\n        \"std\": 0.7097804474251723,\n        \"min\": -1.8156537420478445,\n        \"max\": 1.5909913253395513,\n        \"num_unique_values\": 408,\n        \"samples\": [\n          0.5382617185760796,\n          0.3508656132828963,\n          -1.287918182029702\n        ],\n        \"semantic_type\": \"\",\n        \"description\": \"\"\n      }\n    },\n    {\n      \"column\": \"Evol\",\n      \"properties\": {\n        \"dtype\": \"number\",\n        \"std\": 0.6747072759725979,\n        \"min\": -1.644277434787698,\n        \"max\": 1.3929545802431715,\n        \"num_unique_values\": 408,\n        \"samples\": [\n          0.45680275886079963,\n          0.41394317202961783,\n          -1.1857999105591255\n        ],\n        \"semantic_type\": \"\",\n        \"description\": \"\"\n      }\n    }\n  ]\n}"
            }
          },
          "metadata": {},
          "execution_count": 46
        }
      ]
    },
    {
      "cell_type": "code",
      "source": [
        "scaled_df.to_csv('/content/drive/MyDrive/Colab Notebooks/AI/scaled_df1.csv')"
      ],
      "metadata": {
        "id": "_vvb_p12o_Wc"
      },
      "execution_count": null,
      "outputs": []
    },
    {
      "cell_type": "code",
      "source": [
        "scaled_df"
      ],
      "metadata": {
        "colab": {
          "base_uri": "https://localhost:8080/",
          "height": 455
        },
        "id": "POM7hWdvpSY8",
        "outputId": "e9430309-183e-40b0-f10d-eee3b15fa480"
      },
      "execution_count": null,
      "outputs": [
        {
          "output_type": "execute_result",
          "data": {
            "text/plain": [
              "              T2M      WS2M   Dwn_Rad     Erate      Evol\n",
              "Date                                                     \n",
              "1985-01-01  0.128 -0.043243  0.112500  0.050016  0.167531\n",
              "1985-02-01  0.232  1.427027  0.475000  0.412516 -0.037823\n",
              "1985-03-01  0.928  1.210811  0.858333  0.160019  0.262734\n",
              "1985-04-01  0.468 -0.302703  1.262500 -0.048801 -0.118404\n",
              "1985-05-01  0.304  0.518919  0.025000 -0.151879 -0.056288\n",
              "...           ...       ...       ...       ...       ...\n",
              "2018-08-01 -0.760 -0.410811 -1.133333 -1.276294 -1.093298\n",
              "2018-09-01  0.044 -0.756757  0.120833 -0.496899 -0.467260\n",
              "2018-10-01  0.008 -0.324324 -0.345833  0.107134  0.285040\n",
              "2018-11-01 -0.132 -0.454054 -0.512500 -0.100996 -0.104934\n",
              "2018-12-01  0.000 -0.194595 -0.458333 -0.242177 -0.080023\n",
              "\n",
              "[408 rows x 5 columns]"
            ],
            "text/html": [
              "\n",
              "  <div id=\"df-368c8d78-3f55-497a-8335-b77c01746ae7\" class=\"colab-df-container\">\n",
              "    <div>\n",
              "<style scoped>\n",
              "    .dataframe tbody tr th:only-of-type {\n",
              "        vertical-align: middle;\n",
              "    }\n",
              "\n",
              "    .dataframe tbody tr th {\n",
              "        vertical-align: top;\n",
              "    }\n",
              "\n",
              "    .dataframe thead th {\n",
              "        text-align: right;\n",
              "    }\n",
              "</style>\n",
              "<table border=\"1\" class=\"dataframe\">\n",
              "  <thead>\n",
              "    <tr style=\"text-align: right;\">\n",
              "      <th></th>\n",
              "      <th>T2M</th>\n",
              "      <th>WS2M</th>\n",
              "      <th>Dwn_Rad</th>\n",
              "      <th>Erate</th>\n",
              "      <th>Evol</th>\n",
              "    </tr>\n",
              "    <tr>\n",
              "      <th>Date</th>\n",
              "      <th></th>\n",
              "      <th></th>\n",
              "      <th></th>\n",
              "      <th></th>\n",
              "      <th></th>\n",
              "    </tr>\n",
              "  </thead>\n",
              "  <tbody>\n",
              "    <tr>\n",
              "      <th>1985-01-01</th>\n",
              "      <td>0.128</td>\n",
              "      <td>-0.043243</td>\n",
              "      <td>0.112500</td>\n",
              "      <td>0.050016</td>\n",
              "      <td>0.167531</td>\n",
              "    </tr>\n",
              "    <tr>\n",
              "      <th>1985-02-01</th>\n",
              "      <td>0.232</td>\n",
              "      <td>1.427027</td>\n",
              "      <td>0.475000</td>\n",
              "      <td>0.412516</td>\n",
              "      <td>-0.037823</td>\n",
              "    </tr>\n",
              "    <tr>\n",
              "      <th>1985-03-01</th>\n",
              "      <td>0.928</td>\n",
              "      <td>1.210811</td>\n",
              "      <td>0.858333</td>\n",
              "      <td>0.160019</td>\n",
              "      <td>0.262734</td>\n",
              "    </tr>\n",
              "    <tr>\n",
              "      <th>1985-04-01</th>\n",
              "      <td>0.468</td>\n",
              "      <td>-0.302703</td>\n",
              "      <td>1.262500</td>\n",
              "      <td>-0.048801</td>\n",
              "      <td>-0.118404</td>\n",
              "    </tr>\n",
              "    <tr>\n",
              "      <th>1985-05-01</th>\n",
              "      <td>0.304</td>\n",
              "      <td>0.518919</td>\n",
              "      <td>0.025000</td>\n",
              "      <td>-0.151879</td>\n",
              "      <td>-0.056288</td>\n",
              "    </tr>\n",
              "    <tr>\n",
              "      <th>...</th>\n",
              "      <td>...</td>\n",
              "      <td>...</td>\n",
              "      <td>...</td>\n",
              "      <td>...</td>\n",
              "      <td>...</td>\n",
              "    </tr>\n",
              "    <tr>\n",
              "      <th>2018-08-01</th>\n",
              "      <td>-0.760</td>\n",
              "      <td>-0.410811</td>\n",
              "      <td>-1.133333</td>\n",
              "      <td>-1.276294</td>\n",
              "      <td>-1.093298</td>\n",
              "    </tr>\n",
              "    <tr>\n",
              "      <th>2018-09-01</th>\n",
              "      <td>0.044</td>\n",
              "      <td>-0.756757</td>\n",
              "      <td>0.120833</td>\n",
              "      <td>-0.496899</td>\n",
              "      <td>-0.467260</td>\n",
              "    </tr>\n",
              "    <tr>\n",
              "      <th>2018-10-01</th>\n",
              "      <td>0.008</td>\n",
              "      <td>-0.324324</td>\n",
              "      <td>-0.345833</td>\n",
              "      <td>0.107134</td>\n",
              "      <td>0.285040</td>\n",
              "    </tr>\n",
              "    <tr>\n",
              "      <th>2018-11-01</th>\n",
              "      <td>-0.132</td>\n",
              "      <td>-0.454054</td>\n",
              "      <td>-0.512500</td>\n",
              "      <td>-0.100996</td>\n",
              "      <td>-0.104934</td>\n",
              "    </tr>\n",
              "    <tr>\n",
              "      <th>2018-12-01</th>\n",
              "      <td>0.000</td>\n",
              "      <td>-0.194595</td>\n",
              "      <td>-0.458333</td>\n",
              "      <td>-0.242177</td>\n",
              "      <td>-0.080023</td>\n",
              "    </tr>\n",
              "  </tbody>\n",
              "</table>\n",
              "<p>408 rows × 5 columns</p>\n",
              "</div>\n",
              "    <div class=\"colab-df-buttons\">\n",
              "\n",
              "  <div class=\"colab-df-container\">\n",
              "    <button class=\"colab-df-convert\" onclick=\"convertToInteractive('df-368c8d78-3f55-497a-8335-b77c01746ae7')\"\n",
              "            title=\"Convert this dataframe to an interactive table.\"\n",
              "            style=\"display:none;\">\n",
              "\n",
              "  <svg xmlns=\"http://www.w3.org/2000/svg\" height=\"24px\" viewBox=\"0 -960 960 960\">\n",
              "    <path d=\"M120-120v-720h720v720H120Zm60-500h600v-160H180v160Zm220 220h160v-160H400v160Zm0 220h160v-160H400v160ZM180-400h160v-160H180v160Zm440 0h160v-160H620v160ZM180-180h160v-160H180v160Zm440 0h160v-160H620v160Z\"/>\n",
              "  </svg>\n",
              "    </button>\n",
              "\n",
              "  <style>\n",
              "    .colab-df-container {\n",
              "      display:flex;\n",
              "      gap: 12px;\n",
              "    }\n",
              "\n",
              "    .colab-df-convert {\n",
              "      background-color: #E8F0FE;\n",
              "      border: none;\n",
              "      border-radius: 50%;\n",
              "      cursor: pointer;\n",
              "      display: none;\n",
              "      fill: #1967D2;\n",
              "      height: 32px;\n",
              "      padding: 0 0 0 0;\n",
              "      width: 32px;\n",
              "    }\n",
              "\n",
              "    .colab-df-convert:hover {\n",
              "      background-color: #E2EBFA;\n",
              "      box-shadow: 0px 1px 2px rgba(60, 64, 67, 0.3), 0px 1px 3px 1px rgba(60, 64, 67, 0.15);\n",
              "      fill: #174EA6;\n",
              "    }\n",
              "\n",
              "    .colab-df-buttons div {\n",
              "      margin-bottom: 4px;\n",
              "    }\n",
              "\n",
              "    [theme=dark] .colab-df-convert {\n",
              "      background-color: #3B4455;\n",
              "      fill: #D2E3FC;\n",
              "    }\n",
              "\n",
              "    [theme=dark] .colab-df-convert:hover {\n",
              "      background-color: #434B5C;\n",
              "      box-shadow: 0px 1px 3px 1px rgba(0, 0, 0, 0.15);\n",
              "      filter: drop-shadow(0px 1px 2px rgba(0, 0, 0, 0.3));\n",
              "      fill: #FFFFFF;\n",
              "    }\n",
              "  </style>\n",
              "\n",
              "    <script>\n",
              "      const buttonEl =\n",
              "        document.querySelector('#df-368c8d78-3f55-497a-8335-b77c01746ae7 button.colab-df-convert');\n",
              "      buttonEl.style.display =\n",
              "        google.colab.kernel.accessAllowed ? 'block' : 'none';\n",
              "\n",
              "      async function convertToInteractive(key) {\n",
              "        const element = document.querySelector('#df-368c8d78-3f55-497a-8335-b77c01746ae7');\n",
              "        const dataTable =\n",
              "          await google.colab.kernel.invokeFunction('convertToInteractive',\n",
              "                                                    [key], {});\n",
              "        if (!dataTable) return;\n",
              "\n",
              "        const docLinkHtml = 'Like what you see? Visit the ' +\n",
              "          '<a target=\"_blank\" href=https://colab.research.google.com/notebooks/data_table.ipynb>data table notebook</a>'\n",
              "          + ' to learn more about interactive tables.';\n",
              "        element.innerHTML = '';\n",
              "        dataTable['output_type'] = 'display_data';\n",
              "        await google.colab.output.renderOutput(dataTable, element);\n",
              "        const docLink = document.createElement('div');\n",
              "        docLink.innerHTML = docLinkHtml;\n",
              "        element.appendChild(docLink);\n",
              "      }\n",
              "    </script>\n",
              "  </div>\n",
              "\n",
              "\n",
              "<div id=\"df-d50db77c-cb7a-410d-b474-4af3e3427141\">\n",
              "  <button class=\"colab-df-quickchart\" onclick=\"quickchart('df-d50db77c-cb7a-410d-b474-4af3e3427141')\"\n",
              "            title=\"Suggest charts\"\n",
              "            style=\"display:none;\">\n",
              "\n",
              "<svg xmlns=\"http://www.w3.org/2000/svg\" height=\"24px\"viewBox=\"0 0 24 24\"\n",
              "     width=\"24px\">\n",
              "    <g>\n",
              "        <path d=\"M19 3H5c-1.1 0-2 .9-2 2v14c0 1.1.9 2 2 2h14c1.1 0 2-.9 2-2V5c0-1.1-.9-2-2-2zM9 17H7v-7h2v7zm4 0h-2V7h2v10zm4 0h-2v-4h2v4z\"/>\n",
              "    </g>\n",
              "</svg>\n",
              "  </button>\n",
              "\n",
              "<style>\n",
              "  .colab-df-quickchart {\n",
              "      --bg-color: #E8F0FE;\n",
              "      --fill-color: #1967D2;\n",
              "      --hover-bg-color: #E2EBFA;\n",
              "      --hover-fill-color: #174EA6;\n",
              "      --disabled-fill-color: #AAA;\n",
              "      --disabled-bg-color: #DDD;\n",
              "  }\n",
              "\n",
              "  [theme=dark] .colab-df-quickchart {\n",
              "      --bg-color: #3B4455;\n",
              "      --fill-color: #D2E3FC;\n",
              "      --hover-bg-color: #434B5C;\n",
              "      --hover-fill-color: #FFFFFF;\n",
              "      --disabled-bg-color: #3B4455;\n",
              "      --disabled-fill-color: #666;\n",
              "  }\n",
              "\n",
              "  .colab-df-quickchart {\n",
              "    background-color: var(--bg-color);\n",
              "    border: none;\n",
              "    border-radius: 50%;\n",
              "    cursor: pointer;\n",
              "    display: none;\n",
              "    fill: var(--fill-color);\n",
              "    height: 32px;\n",
              "    padding: 0;\n",
              "    width: 32px;\n",
              "  }\n",
              "\n",
              "  .colab-df-quickchart:hover {\n",
              "    background-color: var(--hover-bg-color);\n",
              "    box-shadow: 0 1px 2px rgba(60, 64, 67, 0.3), 0 1px 3px 1px rgba(60, 64, 67, 0.15);\n",
              "    fill: var(--button-hover-fill-color);\n",
              "  }\n",
              "\n",
              "  .colab-df-quickchart-complete:disabled,\n",
              "  .colab-df-quickchart-complete:disabled:hover {\n",
              "    background-color: var(--disabled-bg-color);\n",
              "    fill: var(--disabled-fill-color);\n",
              "    box-shadow: none;\n",
              "  }\n",
              "\n",
              "  .colab-df-spinner {\n",
              "    border: 2px solid var(--fill-color);\n",
              "    border-color: transparent;\n",
              "    border-bottom-color: var(--fill-color);\n",
              "    animation:\n",
              "      spin 1s steps(1) infinite;\n",
              "  }\n",
              "\n",
              "  @keyframes spin {\n",
              "    0% {\n",
              "      border-color: transparent;\n",
              "      border-bottom-color: var(--fill-color);\n",
              "      border-left-color: var(--fill-color);\n",
              "    }\n",
              "    20% {\n",
              "      border-color: transparent;\n",
              "      border-left-color: var(--fill-color);\n",
              "      border-top-color: var(--fill-color);\n",
              "    }\n",
              "    30% {\n",
              "      border-color: transparent;\n",
              "      border-left-color: var(--fill-color);\n",
              "      border-top-color: var(--fill-color);\n",
              "      border-right-color: var(--fill-color);\n",
              "    }\n",
              "    40% {\n",
              "      border-color: transparent;\n",
              "      border-right-color: var(--fill-color);\n",
              "      border-top-color: var(--fill-color);\n",
              "    }\n",
              "    60% {\n",
              "      border-color: transparent;\n",
              "      border-right-color: var(--fill-color);\n",
              "    }\n",
              "    80% {\n",
              "      border-color: transparent;\n",
              "      border-right-color: var(--fill-color);\n",
              "      border-bottom-color: var(--fill-color);\n",
              "    }\n",
              "    90% {\n",
              "      border-color: transparent;\n",
              "      border-bottom-color: var(--fill-color);\n",
              "    }\n",
              "  }\n",
              "</style>\n",
              "\n",
              "  <script>\n",
              "    async function quickchart(key) {\n",
              "      const quickchartButtonEl =\n",
              "        document.querySelector('#' + key + ' button');\n",
              "      quickchartButtonEl.disabled = true;  // To prevent multiple clicks.\n",
              "      quickchartButtonEl.classList.add('colab-df-spinner');\n",
              "      try {\n",
              "        const charts = await google.colab.kernel.invokeFunction(\n",
              "            'suggestCharts', [key], {});\n",
              "      } catch (error) {\n",
              "        console.error('Error during call to suggestCharts:', error);\n",
              "      }\n",
              "      quickchartButtonEl.classList.remove('colab-df-spinner');\n",
              "      quickchartButtonEl.classList.add('colab-df-quickchart-complete');\n",
              "    }\n",
              "    (() => {\n",
              "      let quickchartButtonEl =\n",
              "        document.querySelector('#df-d50db77c-cb7a-410d-b474-4af3e3427141 button');\n",
              "      quickchartButtonEl.style.display =\n",
              "        google.colab.kernel.accessAllowed ? 'block' : 'none';\n",
              "    })();\n",
              "  </script>\n",
              "</div>\n",
              "\n",
              "  <div id=\"id_a3c7e4be-0d9b-4c81-99cc-c029c6b7f1c0\">\n",
              "    <style>\n",
              "      .colab-df-generate {\n",
              "        background-color: #E8F0FE;\n",
              "        border: none;\n",
              "        border-radius: 50%;\n",
              "        cursor: pointer;\n",
              "        display: none;\n",
              "        fill: #1967D2;\n",
              "        height: 32px;\n",
              "        padding: 0 0 0 0;\n",
              "        width: 32px;\n",
              "      }\n",
              "\n",
              "      .colab-df-generate:hover {\n",
              "        background-color: #E2EBFA;\n",
              "        box-shadow: 0px 1px 2px rgba(60, 64, 67, 0.3), 0px 1px 3px 1px rgba(60, 64, 67, 0.15);\n",
              "        fill: #174EA6;\n",
              "      }\n",
              "\n",
              "      [theme=dark] .colab-df-generate {\n",
              "        background-color: #3B4455;\n",
              "        fill: #D2E3FC;\n",
              "      }\n",
              "\n",
              "      [theme=dark] .colab-df-generate:hover {\n",
              "        background-color: #434B5C;\n",
              "        box-shadow: 0px 1px 3px 1px rgba(0, 0, 0, 0.15);\n",
              "        filter: drop-shadow(0px 1px 2px rgba(0, 0, 0, 0.3));\n",
              "        fill: #FFFFFF;\n",
              "      }\n",
              "    </style>\n",
              "    <button class=\"colab-df-generate\" onclick=\"generateWithVariable('scaled_df')\"\n",
              "            title=\"Generate code using this dataframe.\"\n",
              "            style=\"display:none;\">\n",
              "\n",
              "  <svg xmlns=\"http://www.w3.org/2000/svg\" height=\"24px\"viewBox=\"0 0 24 24\"\n",
              "       width=\"24px\">\n",
              "    <path d=\"M7,19H8.4L18.45,9,17,7.55,7,17.6ZM5,21V16.75L18.45,3.32a2,2,0,0,1,2.83,0l1.4,1.43a1.91,1.91,0,0,1,.58,1.4,1.91,1.91,0,0,1-.58,1.4L9.25,21ZM18.45,9,17,7.55Zm-12,3A5.31,5.31,0,0,0,4.9,8.1,5.31,5.31,0,0,0,1,6.5,5.31,5.31,0,0,0,4.9,4.9,5.31,5.31,0,0,0,6.5,1,5.31,5.31,0,0,0,8.1,4.9,5.31,5.31,0,0,0,12,6.5,5.46,5.46,0,0,0,6.5,12Z\"/>\n",
              "  </svg>\n",
              "    </button>\n",
              "    <script>\n",
              "      (() => {\n",
              "      const buttonEl =\n",
              "        document.querySelector('#id_a3c7e4be-0d9b-4c81-99cc-c029c6b7f1c0 button.colab-df-generate');\n",
              "      buttonEl.style.display =\n",
              "        google.colab.kernel.accessAllowed ? 'block' : 'none';\n",
              "\n",
              "      buttonEl.onclick = () => {\n",
              "        google.colab.notebook.generateWithVariable('scaled_df');\n",
              "      }\n",
              "      })();\n",
              "    </script>\n",
              "  </div>\n",
              "\n",
              "    </div>\n",
              "  </div>\n"
            ],
            "application/vnd.google.colaboratory.intrinsic+json": {
              "type": "dataframe",
              "variable_name": "scaled_df",
              "summary": "{\n  \"name\": \"scaled_df\",\n  \"rows\": 408,\n  \"fields\": [\n    {\n      \"column\": \"Date\",\n      \"properties\": {\n        \"dtype\": \"date\",\n        \"min\": \"1985-01-01 00:00:00\",\n        \"max\": \"2018-12-01 00:00:00\",\n        \"num_unique_values\": 408,\n        \"samples\": [\n          \"1990-11-01 00:00:00\",\n          \"2003-03-01 00:00:00\",\n          \"2006-07-01 00:00:00\"\n        ],\n        \"semantic_type\": \"\",\n        \"description\": \"\"\n      }\n    },\n    {\n      \"column\": \"T2M\",\n      \"properties\": {\n        \"dtype\": \"number\",\n        \"std\": 0.6846288280318609,\n        \"min\": -1.2879999999999996,\n        \"max\": 2.056,\n        \"num_unique_values\": 281,\n        \"samples\": [\n          -0.2680000000000007,\n          -0.24000000000000057,\n          1.4120000000000004\n        ],\n        \"semantic_type\": \"\",\n        \"description\": \"\"\n      }\n    },\n    {\n      \"column\": \"WS2M\",\n      \"properties\": {\n        \"dtype\": \"number\",\n        \"std\": 0.6954166855527076,\n        \"min\": -1.945945945945946,\n        \"max\": 2.8324324324324333,\n        \"num_unique_values\": 122,\n        \"samples\": [\n          -0.5189189189189185,\n          -0.6918918918918917,\n          1.4054054054054055\n        ],\n        \"semantic_type\": \"\",\n        \"description\": \"\"\n      }\n    },\n    {\n      \"column\": \"Dwn_Rad\",\n      \"properties\": {\n        \"dtype\": \"number\",\n        \"std\": 0.8118823769276696,\n        \"min\": -2.1833333333333322,\n        \"max\": 2.179166666666665,\n        \"num_unique_values\": 302,\n        \"samples\": [\n          0.5874999999999996,\n          -1.1833333333333322,\n          -0.42916666666666675\n        ],\n        \"semantic_type\": \"\",\n        \"description\": \"\"\n      }\n    },\n    {\n      \"column\": \"Erate\",\n      \"properties\": {\n        \"dtype\": \"number\",\n        \"std\": 0.7097804474251723,\n        \"min\": -1.8156537420478445,\n        \"max\": 1.5909913253395513,\n        \"num_unique_values\": 408,\n        \"samples\": [\n          0.5382617185760796,\n          0.3508656132828963,\n          -1.287918182029702\n        ],\n        \"semantic_type\": \"\",\n        \"description\": \"\"\n      }\n    },\n    {\n      \"column\": \"Evol\",\n      \"properties\": {\n        \"dtype\": \"number\",\n        \"std\": 0.6747072759725979,\n        \"min\": -1.644277434787698,\n        \"max\": 1.3929545802431715,\n        \"num_unique_values\": 408,\n        \"samples\": [\n          0.45680275886079963,\n          0.41394317202961783,\n          -1.1857999105591255\n        ],\n        \"semantic_type\": \"\",\n        \"description\": \"\"\n      }\n    }\n  ]\n}"
            }
          },
          "metadata": {},
          "execution_count": 48
        }
      ]
    }
  ]
}